{
  "cells": [
    {
      "cell_type": "code",
      "execution_count": null,
      "metadata": {
        "id": "umnoJKorJQNm"
      },
      "outputs": [],
      "source": [
        "!pip install -U -q kaggle\n",
        "!mkdir -p ~/.kaggle"
      ]
    },
    {
      "cell_type": "code",
      "execution_count": null,
      "metadata": {
        "colab": {
          "base_uri": "https://localhost:8080/",
          "height": 91
        },
        "id": "zt6QsgzD32ym",
        "outputId": "c20bd6be-fdbb-4907-8a78-491c9c8bae77"
      },
      "outputs": [
        {
          "data": {
            "text/html": [
              "\n",
              "     <input type=\"file\" id=\"files-2443fa70-ebc4-43fc-a193-94c71ea5bb8d\" name=\"files[]\" multiple disabled\n",
              "        style=\"border:none\" />\n",
              "     <output id=\"result-2443fa70-ebc4-43fc-a193-94c71ea5bb8d\">\n",
              "      Upload widget is only available when the cell has been executed in the\n",
              "      current browser session. Please rerun this cell to enable.\n",
              "      </output>\n",
              "      <script>// Copyright 2017 Google LLC\n",
              "//\n",
              "// Licensed under the Apache License, Version 2.0 (the \"License\");\n",
              "// you may not use this file except in compliance with the License.\n",
              "// You may obtain a copy of the License at\n",
              "//\n",
              "//      http://www.apache.org/licenses/LICENSE-2.0\n",
              "//\n",
              "// Unless required by applicable law or agreed to in writing, software\n",
              "// distributed under the License is distributed on an \"AS IS\" BASIS,\n",
              "// WITHOUT WARRANTIES OR CONDITIONS OF ANY KIND, either express or implied.\n",
              "// See the License for the specific language governing permissions and\n",
              "// limitations under the License.\n",
              "\n",
              "/**\n",
              " * @fileoverview Helpers for google.colab Python module.\n",
              " */\n",
              "(function(scope) {\n",
              "function span(text, styleAttributes = {}) {\n",
              "  const element = document.createElement('span');\n",
              "  element.textContent = text;\n",
              "  for (const key of Object.keys(styleAttributes)) {\n",
              "    element.style[key] = styleAttributes[key];\n",
              "  }\n",
              "  return element;\n",
              "}\n",
              "\n",
              "// Max number of bytes which will be uploaded at a time.\n",
              "const MAX_PAYLOAD_SIZE = 100 * 1024;\n",
              "\n",
              "function _uploadFiles(inputId, outputId) {\n",
              "  const steps = uploadFilesStep(inputId, outputId);\n",
              "  const outputElement = document.getElementById(outputId);\n",
              "  // Cache steps on the outputElement to make it available for the next call\n",
              "  // to uploadFilesContinue from Python.\n",
              "  outputElement.steps = steps;\n",
              "\n",
              "  return _uploadFilesContinue(outputId);\n",
              "}\n",
              "\n",
              "// This is roughly an async generator (not supported in the browser yet),\n",
              "// where there are multiple asynchronous steps and the Python side is going\n",
              "// to poll for completion of each step.\n",
              "// This uses a Promise to block the python side on completion of each step,\n",
              "// then passes the result of the previous step as the input to the next step.\n",
              "function _uploadFilesContinue(outputId) {\n",
              "  const outputElement = document.getElementById(outputId);\n",
              "  const steps = outputElement.steps;\n",
              "\n",
              "  const next = steps.next(outputElement.lastPromiseValue);\n",
              "  return Promise.resolve(next.value.promise).then((value) => {\n",
              "    // Cache the last promise value to make it available to the next\n",
              "    // step of the generator.\n",
              "    outputElement.lastPromiseValue = value;\n",
              "    return next.value.response;\n",
              "  });\n",
              "}\n",
              "\n",
              "/**\n",
              " * Generator function which is called between each async step of the upload\n",
              " * process.\n",
              " * @param {string} inputId Element ID of the input file picker element.\n",
              " * @param {string} outputId Element ID of the output display.\n",
              " * @return {!Iterable<!Object>} Iterable of next steps.\n",
              " */\n",
              "function* uploadFilesStep(inputId, outputId) {\n",
              "  const inputElement = document.getElementById(inputId);\n",
              "  inputElement.disabled = false;\n",
              "\n",
              "  const outputElement = document.getElementById(outputId);\n",
              "  outputElement.innerHTML = '';\n",
              "\n",
              "  const pickedPromise = new Promise((resolve) => {\n",
              "    inputElement.addEventListener('change', (e) => {\n",
              "      resolve(e.target.files);\n",
              "    });\n",
              "  });\n",
              "\n",
              "  const cancel = document.createElement('button');\n",
              "  inputElement.parentElement.appendChild(cancel);\n",
              "  cancel.textContent = 'Cancel upload';\n",
              "  const cancelPromise = new Promise((resolve) => {\n",
              "    cancel.onclick = () => {\n",
              "      resolve(null);\n",
              "    };\n",
              "  });\n",
              "\n",
              "  // Wait for the user to pick the files.\n",
              "  const files = yield {\n",
              "    promise: Promise.race([pickedPromise, cancelPromise]),\n",
              "    response: {\n",
              "      action: 'starting',\n",
              "    }\n",
              "  };\n",
              "\n",
              "  cancel.remove();\n",
              "\n",
              "  // Disable the input element since further picks are not allowed.\n",
              "  inputElement.disabled = true;\n",
              "\n",
              "  if (!files) {\n",
              "    return {\n",
              "      response: {\n",
              "        action: 'complete',\n",
              "      }\n",
              "    };\n",
              "  }\n",
              "\n",
              "  for (const file of files) {\n",
              "    const li = document.createElement('li');\n",
              "    li.append(span(file.name, {fontWeight: 'bold'}));\n",
              "    li.append(span(\n",
              "        `(${file.type || 'n/a'}) - ${file.size} bytes, ` +\n",
              "        `last modified: ${\n",
              "            file.lastModifiedDate ? file.lastModifiedDate.toLocaleDateString() :\n",
              "                                    'n/a'} - `));\n",
              "    const percent = span('0% done');\n",
              "    li.appendChild(percent);\n",
              "\n",
              "    outputElement.appendChild(li);\n",
              "\n",
              "    const fileDataPromise = new Promise((resolve) => {\n",
              "      const reader = new FileReader();\n",
              "      reader.onload = (e) => {\n",
              "        resolve(e.target.result);\n",
              "      };\n",
              "      reader.readAsArrayBuffer(file);\n",
              "    });\n",
              "    // Wait for the data to be ready.\n",
              "    let fileData = yield {\n",
              "      promise: fileDataPromise,\n",
              "      response: {\n",
              "        action: 'continue',\n",
              "      }\n",
              "    };\n",
              "\n",
              "    // Use a chunked sending to avoid message size limits. See b/62115660.\n",
              "    let position = 0;\n",
              "    do {\n",
              "      const length = Math.min(fileData.byteLength - position, MAX_PAYLOAD_SIZE);\n",
              "      const chunk = new Uint8Array(fileData, position, length);\n",
              "      position += length;\n",
              "\n",
              "      const base64 = btoa(String.fromCharCode.apply(null, chunk));\n",
              "      yield {\n",
              "        response: {\n",
              "          action: 'append',\n",
              "          file: file.name,\n",
              "          data: base64,\n",
              "        },\n",
              "      };\n",
              "\n",
              "      let percentDone = fileData.byteLength === 0 ?\n",
              "          100 :\n",
              "          Math.round((position / fileData.byteLength) * 100);\n",
              "      percent.textContent = `${percentDone}% done`;\n",
              "\n",
              "    } while (position < fileData.byteLength);\n",
              "  }\n",
              "\n",
              "  // All done.\n",
              "  yield {\n",
              "    response: {\n",
              "      action: 'complete',\n",
              "    }\n",
              "  };\n",
              "}\n",
              "\n",
              "scope.google = scope.google || {};\n",
              "scope.google.colab = scope.google.colab || {};\n",
              "scope.google.colab._files = {\n",
              "  _uploadFiles,\n",
              "  _uploadFilesContinue,\n",
              "};\n",
              "})(self);\n",
              "</script> "
            ],
            "text/plain": [
              "<IPython.core.display.HTML object>"
            ]
          },
          "metadata": {},
          "output_type": "display_data"
        },
        {
          "name": "stdout",
          "output_type": "stream",
          "text": [
            "Saving kaggle.json to kaggle.json\n"
          ]
        },
        {
          "data": {
            "text/plain": [
              "{'kaggle.json': b'{\"username\":\"lokadevm\",\"key\":\"460dc02f59f07c98338841eab1442586\"}'}"
            ]
          },
          "execution_count": 3,
          "metadata": {},
          "output_type": "execute_result"
        }
      ],
      "source": [
        "#Download your api kaggle.jdon from kaggle and upload it here\n",
        "from google.colab import files\n",
        "files.upload()"
      ]
    },
    {
      "cell_type": "code",
      "execution_count": null,
      "metadata": {
        "colab": {
          "base_uri": "https://localhost:8080/"
        },
        "id": "-_L4CxTW39Mi",
        "outputId": "2963d02b-a06c-4b57-eea6-3dcbcf9cf18d"
      },
      "outputs": [
        {
          "name": "stdout",
          "output_type": "stream",
          "text": [
            "mkdir: cannot create directory ‘/root/.kaggle’: File exists\n"
          ]
        }
      ],
      "source": [
        "! mkdir ~/.kaggle\n",
        "! cp kaggle.json ~/.kaggle/"
      ]
    },
    {
      "cell_type": "code",
      "execution_count": null,
      "metadata": {
        "colab": {
          "base_uri": "https://localhost:8080/"
        },
        "id": "xy9Ro1en5eOe",
        "outputId": "d3efb530-77f7-4320-a337-ec6734dbed8d"
      },
      "outputs": [
        {
          "name": "stdout",
          "output_type": "stream",
          "text": [
            "Dataset URL: https://www.kaggle.com/datasets/tawsifurrahman/tuberculosis-tb-chest-xray-dataset\n",
            "License(s): copyright-authors\n",
            "Downloading tuberculosis-tb-chest-xray-dataset.zip to /content\n",
            "100% 663M/663M [00:31<00:00, 23.4MB/s]\n",
            "100% 663M/663M [00:31<00:00, 21.8MB/s]\n"
          ]
        }
      ],
      "source": [
        "! chmod 600 ~/.kaggle/kaggle.json\n",
        "! kaggle datasets download -d tawsifurrahman/tuberculosis-tb-chest-xray-dataset"
      ]
    },
    {
      "cell_type": "code",
      "execution_count": null,
      "metadata": {
        "colab": {
          "base_uri": "https://localhost:8080/"
        },
        "id": "f9yg6mO552FP",
        "outputId": "3c4fff85-f480-40f7-ed0b-078615a7bab6"
      },
      "outputs": [
        {
          "name": "stdout",
          "output_type": "stream",
          "text": [
            "Done\n"
          ]
        }
      ],
      "source": [
        "#unziping the file\n",
        "from zipfile import ZipFile\n",
        "file_name = '/content/tuberculosis-tb-chest-xray-dataset.zip'\n",
        "\n",
        "with ZipFile(file_name, 'r') as zip:\n",
        "  zip.extractall()\n",
        "  print('Done')"
      ]
    },
    {
      "cell_type": "code",
      "execution_count": null,
      "metadata": {
        "colab": {
          "base_uri": "https://localhost:8080/"
        },
        "id": "DdZUzXA-6UCs",
        "outputId": "34097cd2-7fad-440b-8d22-5dda35951575"
      },
      "outputs": [
        {
          "name": "stdout",
          "output_type": "stream",
          "text": [
            "Collecting split-folders\n",
            "  Downloading split_folders-0.5.1-py3-none-any.whl (8.4 kB)\n",
            "Installing collected packages: split-folders\n",
            "Successfully installed split-folders-0.5.1\n"
          ]
        }
      ],
      "source": [
        "! pip install split-folders\n"
      ]
    },
    {
      "cell_type": "code",
      "execution_count": null,
      "metadata": {
        "id": "nfEex17f7hFQ"
      },
      "outputs": [],
      "source": [
        "import os\n",
        "import numpy as np\n",
        "import cv2\n",
        "from sklearn.utils import shuffle\n",
        "from sklearn.model_selection import train_test_split\n",
        "import tensorflow as tf\n",
        "\n",
        "# Function to load and preprocess images\n",
        "def load_preprocess_images(data_dir, img_size=(512, 512)):\n",
        "    images = []\n",
        "    labels = []\n",
        "    label_map = {}  # Map label names to integer IDs\n",
        "    for label_id, label in enumerate(os.listdir(data_dir)):\n",
        "        label_dir = os.path.join(data_dir, label)\n",
        "        if not os.path.isdir(label_dir):  # Skip files that are not directories\n",
        "            continue\n",
        "        label_map[label] = label_id\n",
        "        for image_file in os.listdir(label_dir):\n",
        "            image_path = os.path.join(label_dir, image_file)\n",
        "            # Read and resize image\n",
        "            image = cv2.imread(image_path)\n",
        "            image = cv2.resize(image, img_size)\n",
        "            image = image.astype(np.float32) / 255.0  # Normalize pixel values\n",
        "            images.append(image)\n",
        "            labels.append(label_id)  # Use integer label ID\n",
        "    return np.array(images), np.array(labels), label_map\n",
        "\n",
        "# Load and preprocess data\n",
        "data_dir = '/content/TB_Chest_Radiography_Database'\n",
        "images, labels, label_map = load_preprocess_images(data_dir)\n",
        "\n",
        "# Shuffle data\n",
        "images, labels = shuffle(images, labels, random_state=42)\n",
        "\n",
        "# Split data into training and testing sets\n",
        "X_train, X_test, y_train, y_test = train_test_split(images, labels, test_size=0.2, random_state=42)\n",
        "\n",
        "# Create TensorFlow datasets\n",
        "train_dataset = tf.data.Dataset.from_tensor_slices((X_train, y_train))\n",
        "test_dataset = tf.data.Dataset.from_tensor_slices((X_test, y_test))\n",
        "\n",
        "# Batch and shuffle the datasets\n",
        "BATCH_SIZE = 32\n",
        "train_dataset = train_dataset.shuffle(buffer_size=len(X_train)).batch(BATCH_SIZE)\n",
        "test_dataset = test_dataset.batch(BATCH_SIZE)\n",
        "\n",
        "# Print number of images in training and testing sets\n",
        "print(\"Number of images in training set:\", len(X_train))\n",
        "print(\"Number of images in testing set:\", len(X_test))\n"
      ]
    },
    {
      "cell_type": "code",
      "execution_count": null,
      "metadata": {
        "colab": {
          "base_uri": "https://localhost:8080/",
          "height": 211
        },
        "id": "M3Un4iQvAKYE",
        "outputId": "b84e053d-bded-420b-c851-679e3d311318"
      },
      "outputs": [
        {
          "ename": "FileNotFoundError",
          "evalue": "[Errno 2] No such file or directory: '/content/TB_Chest_Radiography_Database/Normal'",
          "output_type": "error",
          "traceback": [
            "\u001b[0;31m---------------------------------------------------------------------------\u001b[0m",
            "\u001b[0;31mFileNotFoundError\u001b[0m                         Traceback (most recent call last)",
            "\u001b[0;32m<ipython-input-1-9062dea6aa6e>\u001b[0m in \u001b[0;36m<cell line: 13>\u001b[0;34m()\u001b[0m\n\u001b[1;32m     11\u001b[0m \u001b[0;34m\u001b[0m\u001b[0m\n\u001b[1;32m     12\u001b[0m \u001b[0;31m# Load images and labels\u001b[0m\u001b[0;34m\u001b[0m\u001b[0;34m\u001b[0m\u001b[0m\n\u001b[0;32m---> 13\u001b[0;31m \u001b[0mnormal_images\u001b[0m \u001b[0;34m=\u001b[0m \u001b[0;34m[\u001b[0m\u001b[0mos\u001b[0m\u001b[0;34m.\u001b[0m\u001b[0mpath\u001b[0m\u001b[0;34m.\u001b[0m\u001b[0mjoin\u001b[0m\u001b[0;34m(\u001b[0m\u001b[0mnormal_dir\u001b[0m\u001b[0;34m,\u001b[0m \u001b[0mimg\u001b[0m\u001b[0;34m)\u001b[0m \u001b[0;32mfor\u001b[0m \u001b[0mimg\u001b[0m \u001b[0;32min\u001b[0m \u001b[0mos\u001b[0m\u001b[0;34m.\u001b[0m\u001b[0mlistdir\u001b[0m\u001b[0;34m(\u001b[0m\u001b[0mnormal_dir\u001b[0m\u001b[0;34m)\u001b[0m\u001b[0;34m]\u001b[0m\u001b[0;34m\u001b[0m\u001b[0;34m\u001b[0m\u001b[0m\n\u001b[0m\u001b[1;32m     14\u001b[0m \u001b[0mtb_images\u001b[0m \u001b[0;34m=\u001b[0m \u001b[0;34m[\u001b[0m\u001b[0mos\u001b[0m\u001b[0;34m.\u001b[0m\u001b[0mpath\u001b[0m\u001b[0;34m.\u001b[0m\u001b[0mjoin\u001b[0m\u001b[0;34m(\u001b[0m\u001b[0mtb_dir\u001b[0m\u001b[0;34m,\u001b[0m \u001b[0mimg\u001b[0m\u001b[0;34m)\u001b[0m \u001b[0;32mfor\u001b[0m \u001b[0mimg\u001b[0m \u001b[0;32min\u001b[0m \u001b[0mos\u001b[0m\u001b[0;34m.\u001b[0m\u001b[0mlistdir\u001b[0m\u001b[0;34m(\u001b[0m\u001b[0mtb_dir\u001b[0m\u001b[0;34m)\u001b[0m\u001b[0;34m]\u001b[0m\u001b[0;34m\u001b[0m\u001b[0;34m\u001b[0m\u001b[0m\n\u001b[1;32m     15\u001b[0m \u001b[0mimages\u001b[0m \u001b[0;34m=\u001b[0m \u001b[0mnormal_images\u001b[0m \u001b[0;34m+\u001b[0m \u001b[0mtb_images\u001b[0m\u001b[0;34m\u001b[0m\u001b[0;34m\u001b[0m\u001b[0m\n",
            "\u001b[0;31mFileNotFoundError\u001b[0m: [Errno 2] No such file or directory: '/content/TB_Chest_Radiography_Database/Normal'"
          ]
        }
      ],
      "source": [
        "import os\n",
        "import numpy as np\n",
        "import cv2\n",
        "from sklearn.model_selection import train_test_split\n",
        "import tensorflow as tf\n",
        "\n",
        "# Define paths\n",
        "data_dir = '/content/TB_Chest_Radiography_Database'\n",
        "normal_dir = os.path.join(data_dir, 'Normal')\n",
        "tb_dir = os.path.join(data_dir, 'Tuberculosis')\n",
        "\n",
        "# Load images and labels\n",
        "normal_images = [os.path.join(normal_dir, img) for img in os.listdir(normal_dir)]\n",
        "tb_images = [os.path.join(tb_dir, img) for img in os.listdir(tb_dir)]\n",
        "images = normal_images + tb_images\n",
        "labels = [0] * len(normal_images) + [1] * len(tb_images)  # 0 for normal, 1 for tuberculosis\n",
        "\n",
        "# Resize and normalize images\n",
        "def preprocess_image(img_path):\n",
        "    img = cv2.imread(img_path)\n",
        "    img = cv2.resize(img, (224, 224))  # Resize to common size\n",
        "    img = img.astype(np.float32) / 255.0  # Normalize pixel values\n",
        "    return img\n",
        "\n",
        "# Preprocess all images\n",
        "processed_images = [preprocess_image(img) for img in images]\n",
        "\n",
        "# Split dataset into train, validation, and test sets\n",
        "train_images, test_images, train_labels, test_labels = train_test_split(processed_images, labels, test_size=0.2, random_state=42)\n",
        "val_images, test_images, val_labels, test_labels = train_test_split(test_images, test_labels, test_size=0.5, random_state=42)\n",
        "\n",
        "# Convert to TensorFlow tensors\n",
        "train_dataset = tf.data.Dataset.from_tensor_slices((train_images, train_labels))\n",
        "val_dataset = tf.data.Dataset.from_tensor_slices((val_images, val_labels))\n",
        "test_dataset = tf.data.Dataset.from_tensor_slices((test_images, test_labels))\n",
        "\n",
        "# Shuffle and batch the datasets\n",
        "BATCH_SIZE = 32\n",
        "train_dataset = train_dataset.shuffle(buffer_size=len(train_images)).batch(BATCH_SIZE)\n",
        "val_dataset = val_dataset.batch(BATCH_SIZE)\n",
        "test_dataset = test_dataset.batch(BATCH_SIZE)\n",
        "\n",
        "# Print the datasets\n",
        "print(\"Train Dataset:\")\n",
        "print(train_dataset)\n",
        "\n",
        "print(\"\\nValidation Dataset:\")\n",
        "print(val_dataset)\n",
        "\n",
        "print(\"\\nTest Dataset:\")\n",
        "print(test_dataset)\n",
        "\n"
      ]
    },
    {
      "cell_type": "code",
      "execution_count": null,
      "metadata": {
        "colab": {
          "base_uri": "https://localhost:8080/"
        },
        "id": "J2bB3WIrM3ff",
        "outputId": "8e8340df-1fcf-4991-a037-ca8d699e3815"
      },
      "outputs": [
        {
          "name": "stdout",
          "output_type": "stream",
          "text": [
            "Number of samples in the Train Dataset: 105\n",
            "Number of samples in the Validation Dataset: 14\n",
            "Number of samples in the Test Dataset: 14\n"
          ]
        }
      ],
      "source": [
        "import os\n",
        "import numpy as np\n",
        "import cv2\n",
        "from sklearn.model_selection import train_test_split\n",
        "import tensorflow as tf\n",
        "\n",
        "# Define paths\n",
        "data_dir = '/content/TB_Chest_Radiography_Database'\n",
        "normal_dir = os.path.join(data_dir, 'Normal')\n",
        "tb_dir = os.path.join(data_dir, 'Tuberculosis')\n",
        "\n",
        "# Load images and labels\n",
        "normal_images = [os.path.join(normal_dir, img) for img in os.listdir(normal_dir)]\n",
        "tb_images = [os.path.join(tb_dir, img) for img in os.listdir(tb_dir)]\n",
        "images = normal_images + tb_images\n",
        "labels = [0] * len(normal_images) + [1] * len(tb_images)  # 0 for normal, 1 for tuberculosis\n",
        "\n",
        "# Resize and normalize images\n",
        "def preprocess_image(img_path):\n",
        "    img = cv2.imread(img_path)\n",
        "    img = cv2.resize(img, (224, 224))  # Resize to common size\n",
        "    img = img.astype(np.float32) / 255.0  # Normalize pixel values\n",
        "    return img\n",
        "\n",
        "# Preprocess all images\n",
        "processed_images = [preprocess_image(img) for img in images]\n",
        "\n",
        "# Split dataset into train, validation, and test sets\n",
        "train_images, test_images, train_labels, test_labels = train_test_split(processed_images, labels, test_size=0.2, random_state=42)\n",
        "val_images, test_images, val_labels, test_labels = train_test_split(test_images, test_labels, test_size=0.5, random_state=42)\n",
        "\n",
        "# Convert to TensorFlow tensors\n",
        "train_dataset = tf.data.Dataset.from_tensor_slices((train_images, train_labels))\n",
        "val_dataset = tf.data.Dataset.from_tensor_slices((val_images, val_labels))\n",
        "test_dataset = tf.data.Dataset.from_tensor_slices((test_images, test_labels))\n",
        "\n",
        "# Shuffle and batch the datasets\n",
        "BATCH_SIZE = 32\n",
        "train_dataset = train_dataset.shuffle(buffer_size=len(train_images)).batch(BATCH_SIZE)\n",
        "val_dataset = val_dataset.batch(BATCH_SIZE)\n",
        "test_dataset = test_dataset.batch(BATCH_SIZE)\n",
        "\n",
        "# Count the number of samples in each dataset\n",
        "train_count = train_dataset.cardinality().numpy()\n",
        "val_count = val_dataset.cardinality().numpy()\n",
        "test_count = test_dataset.cardinality().numpy()\n",
        "\n",
        "# Print the number of samples in each dataset\n",
        "print(\"Number of samples in the Train Dataset:\", train_count)\n",
        "print(\"Number of samples in the Validation Dataset:\", val_count)\n",
        "print(\"Number of samples in the Test Dataset:\", test_count)\n"
      ]
    },
    {
      "cell_type": "code",
      "execution_count": null,
      "metadata": {
        "colab": {
          "base_uri": "https://localhost:8080/"
        },
        "id": "Eoqmb1DyQFm4",
        "outputId": "dd022003-cedf-4a87-a095-f5e6de5de954"
      },
      "outputs": [
        {
          "name": "stdout",
          "output_type": "stream",
          "text": [
            "Number of samples in the Train Dataset: 79\n",
            "Number of samples in the Validation Dataset: 27\n",
            "Number of samples in the Test Dataset: 27\n"
          ]
        }
      ],
      "source": [
        "import os\n",
        "import numpy as np\n",
        "import cv2\n",
        "from sklearn.model_selection import train_test_split\n",
        "import tensorflow as tf\n",
        "\n",
        "# Define paths\n",
        "data_dir = '/content/TB_Chest_Radiography_Database'\n",
        "normal_dir = os.path.join(data_dir, 'Normal')\n",
        "tb_dir = os.path.join(data_dir, 'Tuberculosis')\n",
        "\n",
        "# Load images and labels\n",
        "normal_images = [os.path.join(normal_dir, img) for img in os.listdir(normal_dir)]\n",
        "tb_images = [os.path.join(tb_dir, img) for img in os.listdir(tb_dir)]\n",
        "images = normal_images + tb_images\n",
        "labels = [0] * len(normal_images) + [1] * len(tb_images)  # 0 for normal, 1 for tuberculosis\n",
        "\n",
        "# Resize and normalize images\n",
        "def preprocess_image(img_path):\n",
        "    img = cv2.imread(img_path)\n",
        "    img = cv2.resize(img, (224, 224))  # Resize to common size\n",
        "    img = img.astype(np.float32) / 255.0  # Normalize pixel values\n",
        "    return img\n",
        "\n",
        "# Preprocess all images\n",
        "processed_images = [preprocess_image(img) for img in images]\n",
        "\n",
        "# Split dataset into train, validation, and test sets\n",
        "train_images, test_val_images, train_labels, test_val_labels = train_test_split(processed_images, labels, test_size=0.4, random_state=42)\n",
        "val_images, test_images, val_labels, test_labels = train_test_split(test_val_images, test_val_labels, test_size=0.5, random_state=42)\n",
        "\n",
        "# Convert to TensorFlow tensors\n",
        "train_dataset = tf.data.Dataset.from_tensor_slices((train_images, train_labels))\n",
        "val_dataset = tf.data.Dataset.from_tensor_slices((val_images, val_labels))\n",
        "test_dataset = tf.data.Dataset.from_tensor_slices((test_images, test_labels))\n",
        "\n",
        "# Shuffle and batch the datasets\n",
        "BATCH_SIZE = 32\n",
        "train_dataset = train_dataset.shuffle(buffer_size=len(train_images)).batch(BATCH_SIZE)\n",
        "val_dataset = val_dataset.batch(BATCH_SIZE)\n",
        "test_dataset = test_dataset.batch(BATCH_SIZE)\n",
        "\n",
        "# Count the number of samples in each dataset\n",
        "train_count = train_dataset.cardinality().numpy()\n",
        "val_count = val_dataset.cardinality().numpy()\n",
        "test_count = test_dataset.cardinality().numpy()\n",
        "\n",
        "# Print the number of samples in each dataset\n",
        "print(\"Number of samples in the Train Dataset:\", train_count)\n",
        "print(\"Number of samples in the Validation Dataset:\", val_count)\n",
        "print(\"Number of samples in the Test Dataset:\", test_count)\n"
      ]
    },
    {
      "cell_type": "code",
      "execution_count": null,
      "metadata": {
        "colab": {
          "base_uri": "https://localhost:8080/"
        },
        "id": "SeHukIqLQoMm",
        "outputId": "d0b1154a-2de0-412f-b7a2-15c83ec234fa"
      },
      "outputs": [
        {
          "name": "stdout",
          "output_type": "stream",
          "text": [
            "Number of samples in the Train Dataset: 3360\n",
            "Number of samples in the Test Dataset: 840\n"
          ]
        }
      ],
      "source": [
        "import os\n",
        "import numpy as np\n",
        "import cv2\n",
        "from sklearn.model_selection import train_test_split\n",
        "import tensorflow as tf\n",
        "\n",
        "# Define paths\n",
        "data_dir = '/content/TB_Chest_Radiography_Database'\n",
        "normal_dir = os.path.join(data_dir, 'Normal')\n",
        "tb_dir = os.path.join(data_dir, 'Tuberculosis')\n",
        "\n",
        "# Load images and labels\n",
        "normal_images = [os.path.join(normal_dir, img) for img in os.listdir(normal_dir)]\n",
        "tb_images = [os.path.join(tb_dir, img) for img in os.listdir(tb_dir)]\n",
        "images = normal_images + tb_images\n",
        "labels = [0] * len(normal_images) + [1] * len(tb_images)  # 0 for normal, 1 for tuberculosis\n",
        "\n",
        "# Resize and normalize images\n",
        "def preprocess_image(img_path):\n",
        "    img = cv2.imread(img_path)\n",
        "    img = cv2.resize(img, (224, 224))  # Resize to common size\n",
        "    img = img.astype(np.float32) / 255.0  # Normalize pixel values\n",
        "    return img\n",
        "\n",
        "# Preprocess all images\n",
        "processed_images = [preprocess_image(img) for img in images]\n",
        "\n",
        "# Split dataset into train and test sets\n",
        "train_images, test_images, train_labels, test_labels = train_test_split(processed_images, labels, test_size=0.2, random_state=42)\n",
        "\n",
        "# Convert to TensorFlow tensors\n",
        "train_dataset = tf.data.Dataset.from_tensor_slices((train_images, train_labels))\n",
        "test_dataset = tf.data.Dataset.from_tensor_slices((test_images, test_labels))\n",
        "\n",
        "# Shuffle and batch the datasets\n",
        "BATCH_SIZE = 32\n",
        "train_dataset = train_dataset.shuffle(buffer_size=len(train_images)).batch(BATCH_SIZE)\n",
        "test_dataset = test_dataset.batch(BATCH_SIZE)\n",
        "\n",
        "# Count the number of samples in each dataset\n",
        "train_count = len(train_images)\n",
        "test_count = len(test_images)\n",
        "\n",
        "# Print the number of samples in each dataset\n",
        "print(\"Number of samples in the Train Dataset:\", train_count)\n",
        "print(\"Number of samples in the Test Dataset:\", test_count)\n"
      ]
    },
    {
      "cell_type": "code",
      "execution_count": null,
      "metadata": {
        "colab": {
          "base_uri": "https://localhost:8080/"
        },
        "id": "NqeNtvoDUlV_",
        "outputId": "00a493f3-37a2-4b56-96f7-ef9e6e6ccf59"
      },
      "outputs": [
        {
          "name": "stdout",
          "output_type": "stream",
          "text": [
            "Number of samples in the Train Dataset: 3360\n",
            "Number of samples in the Test Dataset: 840\n"
          ]
        }
      ],
      "source": [
        "import os\n",
        "import numpy as np\n",
        "import cv2\n",
        "from sklearn.model_selection import train_test_split\n",
        "import tensorflow as tf\n",
        "\n",
        "# Define paths\n",
        "data_dir = '/content/TB_Chest_Radiography_Database'\n",
        "normal_dir = os.path.join(data_dir, 'Normal')\n",
        "tb_dir = os.path.join(data_dir, 'Tuberculosis')\n",
        "\n",
        "# Load images and labels\n",
        "normal_images = [os.path.join(normal_dir, img) for img in os.listdir(normal_dir)]\n",
        "tb_images = [os.path.join(tb_dir, img) for img in os.listdir(tb_dir)]\n",
        "images = normal_images + tb_images\n",
        "labels = [0] * len(normal_images) + [1] * len(tb_images)  # 0 for normal, 1 for tuberculosis\n",
        "\n",
        "# Resize and normalize images\n",
        "def preprocess_image(img_path):\n",
        "    img = cv2.imread(img_path)\n",
        "    img = cv2.resize(img, (224, 224))  # Resize to common size\n",
        "    img = img.astype(np.float32) / 255.0  # Normalize pixel values\n",
        "    return img\n",
        "\n",
        "# Preprocess all images\n",
        "processed_images = [preprocess_image(img) for img in images]\n",
        "\n",
        "# Split dataset into train and test sets\n",
        "train_images, test_images, train_labels, test_labels = train_test_split(processed_images, labels, test_size=0.2, random_state=42)\n",
        "\n",
        "# Convert to TensorFlow tensors\n",
        "train_dataset = tf.data.Dataset.from_tensor_slices((train_images, train_labels))\n",
        "test_dataset = tf.data.Dataset.from_tensor_slices((test_images, test_labels))\n",
        "\n",
        "# Shuffle and batch the datasets\n",
        "BATCH_SIZE = 32\n",
        "train_dataset = train_dataset.shuffle(buffer_size=len(train_images)).batch(BATCH_SIZE)\n",
        "test_dataset = test_dataset.batch(BATCH_SIZE)\n",
        "\n",
        "# Count the number of samples in each dataset\n",
        "train_count = len(train_images)\n",
        "test_count = len(test_images)\n",
        "\n",
        "# Print the number of samples in each dataset\n",
        "print(\"Number of samples in the Train Dataset:\", train_count)\n",
        "print(\"Number of samples in the Test Dataset:\", test_count)"
      ]
    },
    {
      "cell_type": "code",
      "execution_count": null,
      "metadata": {
        "colab": {
          "base_uri": "https://localhost:8080/",
          "height": 391
        },
        "id": "eY5ogbWzan5H",
        "outputId": "cad8dfa1-6eec-419d-dc23-653157dccd48"
      },
      "outputs": [
        {
          "name": "stdout",
          "output_type": "stream",
          "text": [
            "Epoch 1/10\n",
            " 69/105 [==================>...........] - ETA: 2:49 - loss: 1.2302 - accuracy: 0.8963"
          ]
        },
        {
          "ename": "KeyboardInterrupt",
          "evalue": "",
          "output_type": "error",
          "traceback": [
            "\u001b[0;31m---------------------------------------------------------------------------\u001b[0m",
            "\u001b[0;31mKeyboardInterrupt\u001b[0m                         Traceback (most recent call last)",
            "\u001b[0;32m<ipython-input-2-1151572d084e>\u001b[0m in \u001b[0;36m<cell line: 46>\u001b[0;34m()\u001b[0m\n\u001b[1;32m     44\u001b[0m \u001b[0;34m\u001b[0m\u001b[0m\n\u001b[1;32m     45\u001b[0m \u001b[0;31m# Train the model\u001b[0m\u001b[0;34m\u001b[0m\u001b[0;34m\u001b[0m\u001b[0m\n\u001b[0;32m---> 46\u001b[0;31m \u001b[0mhistory\u001b[0m \u001b[0;34m=\u001b[0m \u001b[0mmodel\u001b[0m\u001b[0;34m.\u001b[0m\u001b[0mfit\u001b[0m\u001b[0;34m(\u001b[0m\u001b[0mtrain_dataset\u001b[0m\u001b[0;34m,\u001b[0m \u001b[0mepochs\u001b[0m\u001b[0;34m=\u001b[0m\u001b[0;36m10\u001b[0m\u001b[0;34m,\u001b[0m \u001b[0mvalidation_data\u001b[0m\u001b[0;34m=\u001b[0m\u001b[0mtest_dataset\u001b[0m\u001b[0;34m)\u001b[0m\u001b[0;34m\u001b[0m\u001b[0;34m\u001b[0m\u001b[0m\n\u001b[0m\u001b[1;32m     47\u001b[0m \u001b[0;34m\u001b[0m\u001b[0m\n\u001b[1;32m     48\u001b[0m \u001b[0;31m# Evaluate the model\u001b[0m\u001b[0;34m\u001b[0m\u001b[0;34m\u001b[0m\u001b[0m\n",
            "\u001b[0;32m/usr/local/lib/python3.10/dist-packages/keras/src/utils/traceback_utils.py\u001b[0m in \u001b[0;36merror_handler\u001b[0;34m(*args, **kwargs)\u001b[0m\n\u001b[1;32m     63\u001b[0m         \u001b[0mfiltered_tb\u001b[0m \u001b[0;34m=\u001b[0m \u001b[0;32mNone\u001b[0m\u001b[0;34m\u001b[0m\u001b[0;34m\u001b[0m\u001b[0m\n\u001b[1;32m     64\u001b[0m         \u001b[0;32mtry\u001b[0m\u001b[0;34m:\u001b[0m\u001b[0;34m\u001b[0m\u001b[0;34m\u001b[0m\u001b[0m\n\u001b[0;32m---> 65\u001b[0;31m             \u001b[0;32mreturn\u001b[0m \u001b[0mfn\u001b[0m\u001b[0;34m(\u001b[0m\u001b[0;34m*\u001b[0m\u001b[0margs\u001b[0m\u001b[0;34m,\u001b[0m \u001b[0;34m**\u001b[0m\u001b[0mkwargs\u001b[0m\u001b[0;34m)\u001b[0m\u001b[0;34m\u001b[0m\u001b[0;34m\u001b[0m\u001b[0m\n\u001b[0m\u001b[1;32m     66\u001b[0m         \u001b[0;32mexcept\u001b[0m \u001b[0mException\u001b[0m \u001b[0;32mas\u001b[0m \u001b[0me\u001b[0m\u001b[0;34m:\u001b[0m\u001b[0;34m\u001b[0m\u001b[0;34m\u001b[0m\u001b[0m\n\u001b[1;32m     67\u001b[0m             \u001b[0mfiltered_tb\u001b[0m \u001b[0;34m=\u001b[0m \u001b[0m_process_traceback_frames\u001b[0m\u001b[0;34m(\u001b[0m\u001b[0me\u001b[0m\u001b[0;34m.\u001b[0m\u001b[0m__traceback__\u001b[0m\u001b[0;34m)\u001b[0m\u001b[0;34m\u001b[0m\u001b[0;34m\u001b[0m\u001b[0m\n",
            "\u001b[0;32m/usr/local/lib/python3.10/dist-packages/keras/src/engine/training.py\u001b[0m in \u001b[0;36mfit\u001b[0;34m(self, x, y, batch_size, epochs, verbose, callbacks, validation_split, validation_data, shuffle, class_weight, sample_weight, initial_epoch, steps_per_epoch, validation_steps, validation_batch_size, validation_freq, max_queue_size, workers, use_multiprocessing)\u001b[0m\n\u001b[1;32m   1805\u001b[0m                         ):\n\u001b[1;32m   1806\u001b[0m                             \u001b[0mcallbacks\u001b[0m\u001b[0;34m.\u001b[0m\u001b[0mon_train_batch_begin\u001b[0m\u001b[0;34m(\u001b[0m\u001b[0mstep\u001b[0m\u001b[0;34m)\u001b[0m\u001b[0;34m\u001b[0m\u001b[0;34m\u001b[0m\u001b[0m\n\u001b[0;32m-> 1807\u001b[0;31m                             \u001b[0mtmp_logs\u001b[0m \u001b[0;34m=\u001b[0m \u001b[0mself\u001b[0m\u001b[0;34m.\u001b[0m\u001b[0mtrain_function\u001b[0m\u001b[0;34m(\u001b[0m\u001b[0miterator\u001b[0m\u001b[0;34m)\u001b[0m\u001b[0;34m\u001b[0m\u001b[0;34m\u001b[0m\u001b[0m\n\u001b[0m\u001b[1;32m   1808\u001b[0m                             \u001b[0;32mif\u001b[0m \u001b[0mdata_handler\u001b[0m\u001b[0;34m.\u001b[0m\u001b[0mshould_sync\u001b[0m\u001b[0;34m:\u001b[0m\u001b[0;34m\u001b[0m\u001b[0;34m\u001b[0m\u001b[0m\n\u001b[1;32m   1809\u001b[0m                                 \u001b[0mcontext\u001b[0m\u001b[0;34m.\u001b[0m\u001b[0masync_wait\u001b[0m\u001b[0;34m(\u001b[0m\u001b[0;34m)\u001b[0m\u001b[0;34m\u001b[0m\u001b[0;34m\u001b[0m\u001b[0m\n",
            "\u001b[0;32m/usr/local/lib/python3.10/dist-packages/tensorflow/python/util/traceback_utils.py\u001b[0m in \u001b[0;36merror_handler\u001b[0;34m(*args, **kwargs)\u001b[0m\n\u001b[1;32m    148\u001b[0m     \u001b[0mfiltered_tb\u001b[0m \u001b[0;34m=\u001b[0m \u001b[0;32mNone\u001b[0m\u001b[0;34m\u001b[0m\u001b[0;34m\u001b[0m\u001b[0m\n\u001b[1;32m    149\u001b[0m     \u001b[0;32mtry\u001b[0m\u001b[0;34m:\u001b[0m\u001b[0;34m\u001b[0m\u001b[0;34m\u001b[0m\u001b[0m\n\u001b[0;32m--> 150\u001b[0;31m       \u001b[0;32mreturn\u001b[0m \u001b[0mfn\u001b[0m\u001b[0;34m(\u001b[0m\u001b[0;34m*\u001b[0m\u001b[0margs\u001b[0m\u001b[0;34m,\u001b[0m \u001b[0;34m**\u001b[0m\u001b[0mkwargs\u001b[0m\u001b[0;34m)\u001b[0m\u001b[0;34m\u001b[0m\u001b[0;34m\u001b[0m\u001b[0m\n\u001b[0m\u001b[1;32m    151\u001b[0m     \u001b[0;32mexcept\u001b[0m \u001b[0mException\u001b[0m \u001b[0;32mas\u001b[0m \u001b[0me\u001b[0m\u001b[0;34m:\u001b[0m\u001b[0;34m\u001b[0m\u001b[0;34m\u001b[0m\u001b[0m\n\u001b[1;32m    152\u001b[0m       \u001b[0mfiltered_tb\u001b[0m \u001b[0;34m=\u001b[0m \u001b[0m_process_traceback_frames\u001b[0m\u001b[0;34m(\u001b[0m\u001b[0me\u001b[0m\u001b[0;34m.\u001b[0m\u001b[0m__traceback__\u001b[0m\u001b[0;34m)\u001b[0m\u001b[0;34m\u001b[0m\u001b[0;34m\u001b[0m\u001b[0m\n",
            "\u001b[0;32m/usr/local/lib/python3.10/dist-packages/tensorflow/python/eager/polymorphic_function/polymorphic_function.py\u001b[0m in \u001b[0;36m__call__\u001b[0;34m(self, *args, **kwds)\u001b[0m\n\u001b[1;32m    830\u001b[0m \u001b[0;34m\u001b[0m\u001b[0m\n\u001b[1;32m    831\u001b[0m       \u001b[0;32mwith\u001b[0m \u001b[0mOptionalXlaContext\u001b[0m\u001b[0;34m(\u001b[0m\u001b[0mself\u001b[0m\u001b[0;34m.\u001b[0m\u001b[0m_jit_compile\u001b[0m\u001b[0;34m)\u001b[0m\u001b[0;34m:\u001b[0m\u001b[0;34m\u001b[0m\u001b[0;34m\u001b[0m\u001b[0m\n\u001b[0;32m--> 832\u001b[0;31m         \u001b[0mresult\u001b[0m \u001b[0;34m=\u001b[0m \u001b[0mself\u001b[0m\u001b[0;34m.\u001b[0m\u001b[0m_call\u001b[0m\u001b[0;34m(\u001b[0m\u001b[0;34m*\u001b[0m\u001b[0margs\u001b[0m\u001b[0;34m,\u001b[0m \u001b[0;34m**\u001b[0m\u001b[0mkwds\u001b[0m\u001b[0;34m)\u001b[0m\u001b[0;34m\u001b[0m\u001b[0;34m\u001b[0m\u001b[0m\n\u001b[0m\u001b[1;32m    833\u001b[0m \u001b[0;34m\u001b[0m\u001b[0m\n\u001b[1;32m    834\u001b[0m       \u001b[0mnew_tracing_count\u001b[0m \u001b[0;34m=\u001b[0m \u001b[0mself\u001b[0m\u001b[0;34m.\u001b[0m\u001b[0mexperimental_get_tracing_count\u001b[0m\u001b[0;34m(\u001b[0m\u001b[0;34m)\u001b[0m\u001b[0;34m\u001b[0m\u001b[0;34m\u001b[0m\u001b[0m\n",
            "\u001b[0;32m/usr/local/lib/python3.10/dist-packages/tensorflow/python/eager/polymorphic_function/polymorphic_function.py\u001b[0m in \u001b[0;36m_call\u001b[0;34m(self, *args, **kwds)\u001b[0m\n\u001b[1;32m    866\u001b[0m       \u001b[0;31m# In this case we have created variables on the first call, so we run the\u001b[0m\u001b[0;34m\u001b[0m\u001b[0;34m\u001b[0m\u001b[0m\n\u001b[1;32m    867\u001b[0m       \u001b[0;31m# defunned version which is guaranteed to never create variables.\u001b[0m\u001b[0;34m\u001b[0m\u001b[0;34m\u001b[0m\u001b[0m\n\u001b[0;32m--> 868\u001b[0;31m       return tracing_compilation.call_function(\n\u001b[0m\u001b[1;32m    869\u001b[0m           \u001b[0margs\u001b[0m\u001b[0;34m,\u001b[0m \u001b[0mkwds\u001b[0m\u001b[0;34m,\u001b[0m \u001b[0mself\u001b[0m\u001b[0;34m.\u001b[0m\u001b[0m_no_variable_creation_config\u001b[0m\u001b[0;34m\u001b[0m\u001b[0;34m\u001b[0m\u001b[0m\n\u001b[1;32m    870\u001b[0m       )\n",
            "\u001b[0;32m/usr/local/lib/python3.10/dist-packages/tensorflow/python/eager/polymorphic_function/tracing_compilation.py\u001b[0m in \u001b[0;36mcall_function\u001b[0;34m(args, kwargs, tracing_options)\u001b[0m\n\u001b[1;32m    137\u001b[0m   \u001b[0mbound_args\u001b[0m \u001b[0;34m=\u001b[0m \u001b[0mfunction\u001b[0m\u001b[0;34m.\u001b[0m\u001b[0mfunction_type\u001b[0m\u001b[0;34m.\u001b[0m\u001b[0mbind\u001b[0m\u001b[0;34m(\u001b[0m\u001b[0;34m*\u001b[0m\u001b[0margs\u001b[0m\u001b[0;34m,\u001b[0m \u001b[0;34m**\u001b[0m\u001b[0mkwargs\u001b[0m\u001b[0;34m)\u001b[0m\u001b[0;34m\u001b[0m\u001b[0;34m\u001b[0m\u001b[0m\n\u001b[1;32m    138\u001b[0m   \u001b[0mflat_inputs\u001b[0m \u001b[0;34m=\u001b[0m \u001b[0mfunction\u001b[0m\u001b[0;34m.\u001b[0m\u001b[0mfunction_type\u001b[0m\u001b[0;34m.\u001b[0m\u001b[0munpack_inputs\u001b[0m\u001b[0;34m(\u001b[0m\u001b[0mbound_args\u001b[0m\u001b[0;34m)\u001b[0m\u001b[0;34m\u001b[0m\u001b[0;34m\u001b[0m\u001b[0m\n\u001b[0;32m--> 139\u001b[0;31m   return function._call_flat(  # pylint: disable=protected-access\n\u001b[0m\u001b[1;32m    140\u001b[0m       \u001b[0mflat_inputs\u001b[0m\u001b[0;34m,\u001b[0m \u001b[0mcaptured_inputs\u001b[0m\u001b[0;34m=\u001b[0m\u001b[0mfunction\u001b[0m\u001b[0;34m.\u001b[0m\u001b[0mcaptured_inputs\u001b[0m\u001b[0;34m\u001b[0m\u001b[0;34m\u001b[0m\u001b[0m\n\u001b[1;32m    141\u001b[0m   )\n",
            "\u001b[0;32m/usr/local/lib/python3.10/dist-packages/tensorflow/python/eager/polymorphic_function/concrete_function.py\u001b[0m in \u001b[0;36m_call_flat\u001b[0;34m(self, tensor_inputs, captured_inputs)\u001b[0m\n\u001b[1;32m   1321\u001b[0m         and executing_eagerly):\n\u001b[1;32m   1322\u001b[0m       \u001b[0;31m# No tape is watching; skip to running the function.\u001b[0m\u001b[0;34m\u001b[0m\u001b[0;34m\u001b[0m\u001b[0m\n\u001b[0;32m-> 1323\u001b[0;31m       \u001b[0;32mreturn\u001b[0m \u001b[0mself\u001b[0m\u001b[0;34m.\u001b[0m\u001b[0m_inference_function\u001b[0m\u001b[0;34m.\u001b[0m\u001b[0mcall_preflattened\u001b[0m\u001b[0;34m(\u001b[0m\u001b[0margs\u001b[0m\u001b[0;34m)\u001b[0m\u001b[0;34m\u001b[0m\u001b[0;34m\u001b[0m\u001b[0m\n\u001b[0m\u001b[1;32m   1324\u001b[0m     forward_backward = self._select_forward_and_backward_functions(\n\u001b[1;32m   1325\u001b[0m         \u001b[0margs\u001b[0m\u001b[0;34m,\u001b[0m\u001b[0;34m\u001b[0m\u001b[0;34m\u001b[0m\u001b[0m\n",
            "\u001b[0;32m/usr/local/lib/python3.10/dist-packages/tensorflow/python/eager/polymorphic_function/atomic_function.py\u001b[0m in \u001b[0;36mcall_preflattened\u001b[0;34m(self, args)\u001b[0m\n\u001b[1;32m    214\u001b[0m   \u001b[0;32mdef\u001b[0m \u001b[0mcall_preflattened\u001b[0m\u001b[0;34m(\u001b[0m\u001b[0mself\u001b[0m\u001b[0;34m,\u001b[0m \u001b[0margs\u001b[0m\u001b[0;34m:\u001b[0m \u001b[0mSequence\u001b[0m\u001b[0;34m[\u001b[0m\u001b[0mcore\u001b[0m\u001b[0;34m.\u001b[0m\u001b[0mTensor\u001b[0m\u001b[0;34m]\u001b[0m\u001b[0;34m)\u001b[0m \u001b[0;34m->\u001b[0m \u001b[0mAny\u001b[0m\u001b[0;34m:\u001b[0m\u001b[0;34m\u001b[0m\u001b[0;34m\u001b[0m\u001b[0m\n\u001b[1;32m    215\u001b[0m     \u001b[0;34m\"\"\"Calls with flattened tensor inputs and returns the structured output.\"\"\"\u001b[0m\u001b[0;34m\u001b[0m\u001b[0;34m\u001b[0m\u001b[0m\n\u001b[0;32m--> 216\u001b[0;31m     \u001b[0mflat_outputs\u001b[0m \u001b[0;34m=\u001b[0m \u001b[0mself\u001b[0m\u001b[0;34m.\u001b[0m\u001b[0mcall_flat\u001b[0m\u001b[0;34m(\u001b[0m\u001b[0;34m*\u001b[0m\u001b[0margs\u001b[0m\u001b[0;34m)\u001b[0m\u001b[0;34m\u001b[0m\u001b[0;34m\u001b[0m\u001b[0m\n\u001b[0m\u001b[1;32m    217\u001b[0m     \u001b[0;32mreturn\u001b[0m \u001b[0mself\u001b[0m\u001b[0;34m.\u001b[0m\u001b[0mfunction_type\u001b[0m\u001b[0;34m.\u001b[0m\u001b[0mpack_output\u001b[0m\u001b[0;34m(\u001b[0m\u001b[0mflat_outputs\u001b[0m\u001b[0;34m)\u001b[0m\u001b[0;34m\u001b[0m\u001b[0;34m\u001b[0m\u001b[0m\n\u001b[1;32m    218\u001b[0m \u001b[0;34m\u001b[0m\u001b[0m\n",
            "\u001b[0;32m/usr/local/lib/python3.10/dist-packages/tensorflow/python/eager/polymorphic_function/atomic_function.py\u001b[0m in \u001b[0;36mcall_flat\u001b[0;34m(self, *args)\u001b[0m\n\u001b[1;32m    249\u001b[0m         \u001b[0;32mwith\u001b[0m \u001b[0mrecord\u001b[0m\u001b[0;34m.\u001b[0m\u001b[0mstop_recording\u001b[0m\u001b[0;34m(\u001b[0m\u001b[0;34m)\u001b[0m\u001b[0;34m:\u001b[0m\u001b[0;34m\u001b[0m\u001b[0;34m\u001b[0m\u001b[0m\n\u001b[1;32m    250\u001b[0m           \u001b[0;32mif\u001b[0m \u001b[0mself\u001b[0m\u001b[0;34m.\u001b[0m\u001b[0m_bound_context\u001b[0m\u001b[0;34m.\u001b[0m\u001b[0mexecuting_eagerly\u001b[0m\u001b[0;34m(\u001b[0m\u001b[0;34m)\u001b[0m\u001b[0;34m:\u001b[0m\u001b[0;34m\u001b[0m\u001b[0;34m\u001b[0m\u001b[0m\n\u001b[0;32m--> 251\u001b[0;31m             outputs = self._bound_context.call_function(\n\u001b[0m\u001b[1;32m    252\u001b[0m                 \u001b[0mself\u001b[0m\u001b[0;34m.\u001b[0m\u001b[0mname\u001b[0m\u001b[0;34m,\u001b[0m\u001b[0;34m\u001b[0m\u001b[0;34m\u001b[0m\u001b[0m\n\u001b[1;32m    253\u001b[0m                 \u001b[0mlist\u001b[0m\u001b[0;34m(\u001b[0m\u001b[0margs\u001b[0m\u001b[0;34m)\u001b[0m\u001b[0;34m,\u001b[0m\u001b[0;34m\u001b[0m\u001b[0;34m\u001b[0m\u001b[0m\n",
            "\u001b[0;32m/usr/local/lib/python3.10/dist-packages/tensorflow/python/eager/context.py\u001b[0m in \u001b[0;36mcall_function\u001b[0;34m(self, name, tensor_inputs, num_outputs)\u001b[0m\n\u001b[1;32m   1484\u001b[0m     \u001b[0mcancellation_context\u001b[0m \u001b[0;34m=\u001b[0m \u001b[0mcancellation\u001b[0m\u001b[0;34m.\u001b[0m\u001b[0mcontext\u001b[0m\u001b[0;34m(\u001b[0m\u001b[0;34m)\u001b[0m\u001b[0;34m\u001b[0m\u001b[0;34m\u001b[0m\u001b[0m\n\u001b[1;32m   1485\u001b[0m     \u001b[0;32mif\u001b[0m \u001b[0mcancellation_context\u001b[0m \u001b[0;32mis\u001b[0m \u001b[0;32mNone\u001b[0m\u001b[0;34m:\u001b[0m\u001b[0;34m\u001b[0m\u001b[0;34m\u001b[0m\u001b[0m\n\u001b[0;32m-> 1486\u001b[0;31m       outputs = execute.execute(\n\u001b[0m\u001b[1;32m   1487\u001b[0m           \u001b[0mname\u001b[0m\u001b[0;34m.\u001b[0m\u001b[0mdecode\u001b[0m\u001b[0;34m(\u001b[0m\u001b[0;34m\"utf-8\"\u001b[0m\u001b[0;34m)\u001b[0m\u001b[0;34m,\u001b[0m\u001b[0;34m\u001b[0m\u001b[0;34m\u001b[0m\u001b[0m\n\u001b[1;32m   1488\u001b[0m           \u001b[0mnum_outputs\u001b[0m\u001b[0;34m=\u001b[0m\u001b[0mnum_outputs\u001b[0m\u001b[0;34m,\u001b[0m\u001b[0;34m\u001b[0m\u001b[0;34m\u001b[0m\u001b[0m\n",
            "\u001b[0;32m/usr/local/lib/python3.10/dist-packages/tensorflow/python/eager/execute.py\u001b[0m in \u001b[0;36mquick_execute\u001b[0;34m(op_name, num_outputs, inputs, attrs, ctx, name)\u001b[0m\n\u001b[1;32m     51\u001b[0m   \u001b[0;32mtry\u001b[0m\u001b[0;34m:\u001b[0m\u001b[0;34m\u001b[0m\u001b[0;34m\u001b[0m\u001b[0m\n\u001b[1;32m     52\u001b[0m     \u001b[0mctx\u001b[0m\u001b[0;34m.\u001b[0m\u001b[0mensure_initialized\u001b[0m\u001b[0;34m(\u001b[0m\u001b[0;34m)\u001b[0m\u001b[0;34m\u001b[0m\u001b[0;34m\u001b[0m\u001b[0m\n\u001b[0;32m---> 53\u001b[0;31m     tensors = pywrap_tfe.TFE_Py_Execute(ctx._handle, device_name, op_name,\n\u001b[0m\u001b[1;32m     54\u001b[0m                                         inputs, attrs, num_outputs)\n\u001b[1;32m     55\u001b[0m   \u001b[0;32mexcept\u001b[0m \u001b[0mcore\u001b[0m\u001b[0;34m.\u001b[0m\u001b[0m_NotOkStatusException\u001b[0m \u001b[0;32mas\u001b[0m \u001b[0me\u001b[0m\u001b[0;34m:\u001b[0m\u001b[0;34m\u001b[0m\u001b[0;34m\u001b[0m\u001b[0m\n",
            "\u001b[0;31mKeyboardInterrupt\u001b[0m: "
          ]
        }
      ],
      "source": [
        "from tensorflow.keras import layers, models\n",
        "\n",
        "# Define AlexNet model architecture\n",
        "def AlexNet(input_shape, num_classes):\n",
        "    model = models.Sequential([\n",
        "        # First convolutional layer\n",
        "        layers.Conv2D(96, kernel_size=(11, 11), strides=(4, 4), activation='relu', input_shape=input_shape),\n",
        "        layers.MaxPooling2D(pool_size=(3, 3), strides=(2, 2)),\n",
        "        layers.BatchNormalization(),\n",
        "\n",
        "        # Second convolutional layer\n",
        "        layers.Conv2D(256, kernel_size=(5, 5), padding='same', activation='relu'),\n",
        "        layers.MaxPooling2D(pool_size=(3, 3), strides=(2, 2)),\n",
        "        layers.BatchNormalization(),\n",
        "\n",
        "        # Third convolutional layer\n",
        "        layers.Conv2D(384, kernel_size=(3, 3), padding='same', activation='relu'),\n",
        "        layers.Conv2D(384, kernel_size=(3, 3), padding='same', activation='relu'),\n",
        "        layers.Conv2D(256, kernel_size=(3, 3), padding='same', activation='relu'),\n",
        "        layers.MaxPooling2D(pool_size=(3, 3), strides=(2, 2)),\n",
        "        layers.BatchNormalization(),\n",
        "\n",
        "        # Flatten and fully connected layers\n",
        "        layers.Flatten(),\n",
        "        layers.Dense(4096, activation='relu'),\n",
        "        layers.Dropout(0.5),\n",
        "        layers.Dense(4096, activation='relu'),\n",
        "        layers.Dropout(0.5),\n",
        "        layers.Dense(num_classes, activation='softmax')\n",
        "    ])\n",
        "    return model\n",
        "\n",
        "# Define input shape and number of classes\n",
        "input_shape = (224, 224, 3)\n",
        "num_classes = 2  # 2 classes: Normal and Tuberculosis\n",
        "\n",
        "# Create the AlexNet model\n",
        "model = AlexNet(input_shape, num_classes)\n",
        "\n",
        "# Compile the model\n",
        "model.compile(optimizer='adam',\n",
        "              loss='sparse_categorical_crossentropy',\n",
        "              metrics=['accuracy'])\n",
        "\n",
        "# Train the model\n",
        "history = model.fit(train_dataset, epochs=10, validation_data=test_dataset)\n",
        "\n",
        "# Evaluate the model\n",
        "test_loss, test_acc = model.evaluate(test_dataset)\n",
        "print('Test accuracy:', test_acc)\n"
      ]
    },
    {
      "cell_type": "code",
      "execution_count": null,
      "metadata": {
        "colab": {
          "base_uri": "https://localhost:8080/"
        },
        "id": "5lz16d238Fvv",
        "outputId": "5764cd78-4485-46f9-a089-54b9b9488cbb"
      },
      "outputs": [
        {
          "name": "stdout",
          "output_type": "stream",
          "text": [
            "Training model with learning rate: 0.001, dropout rate: 0.5\n"
          ]
        },
        {
          "name": "stderr",
          "output_type": "stream",
          "text": [
            "WARNING:absl:`lr` is deprecated in Keras optimizer, please use `learning_rate` or use the legacy optimizer, e.g.,tf.keras.optimizers.legacy.Adam.\n"
          ]
        },
        {
          "name": "stdout",
          "output_type": "stream",
          "text": [
            "Epoch 1/10\n",
            "105/105 [==============================] - ETA: 0s - loss: 1.0056 - accuracy: 0.9062"
          ]
        },
        {
          "name": "stderr",
          "output_type": "stream",
          "text": [
            "/usr/local/lib/python3.10/dist-packages/keras/src/engine/training.py:3103: UserWarning: You are saving your model as an HDF5 file via `model.save()`. This file format is considered legacy. We recommend using instead the native Keras format, e.g. `model.save('my_model.keras')`.\n",
            "  saving_api.save_model(\n"
          ]
        },
        {
          "name": "stdout",
          "output_type": "stream",
          "text": [
            "\b\b\b\b\b\b\b\b\b\b\b\b\b\b\b\b\b\b\b\b\b\b\b\b\b\b\b\b\b\b\b\b\b\b\b\b\b\b\b\b\b\b\b\b\b\b\b\b\b\b\b\b\b\b\b\b\b\b\b\b\b\b\b\b\b\b\b\b\b\b\b\b\b\b\b\b\b\b\b\b\b\b\b\b\r105/105 [==============================] - 26s 213ms/step - loss: 1.0056 - accuracy: 0.9062 - val_loss: 0.4639 - val_accuracy: 0.8964\n",
            "Epoch 2/10\n",
            "105/105 [==============================] - 6s 52ms/step - loss: 0.1590 - accuracy: 0.9571 - val_loss: 0.5017 - val_accuracy: 0.8083\n",
            "Epoch 3/10\n",
            "105/105 [==============================] - 6s 54ms/step - loss: 0.1527 - accuracy: 0.9595 - val_loss: 1.7323 - val_accuracy: 0.4226\n",
            "Epoch 4/10\n",
            "105/105 [==============================] - 6s 56ms/step - loss: 0.1093 - accuracy: 0.9711 - val_loss: 1.9569 - val_accuracy: 0.7024\n",
            "27/27 [==============================] - 1s 23ms/step - loss: 0.4639 - accuracy: 0.8964\n"
          ]
        },
        {
          "name": "stderr",
          "output_type": "stream",
          "text": [
            "WARNING:absl:`lr` is deprecated in Keras optimizer, please use `learning_rate` or use the legacy optimizer, e.g.,tf.keras.optimizers.legacy.Adam.\n"
          ]
        },
        {
          "name": "stdout",
          "output_type": "stream",
          "text": [
            "Test accuracy for current configuration: 0.8964285850524902\n",
            "Training model with learning rate: 0.001, dropout rate: 0.7\n",
            "Epoch 1/10\n",
            "105/105 [==============================] - 29s 253ms/step - loss: 2.4742 - accuracy: 0.9021 - val_loss: 49.6978 - val_accuracy: 0.4726\n",
            "Epoch 2/10\n",
            "105/105 [==============================] - 21s 201ms/step - loss: 1.9270 - accuracy: 0.9268 - val_loss: 29.6842 - val_accuracy: 0.6012\n",
            "Epoch 3/10\n",
            "105/105 [==============================] - 26s 247ms/step - loss: 0.6714 - accuracy: 0.9426 - val_loss: 0.6761 - val_accuracy: 0.8702\n",
            "Epoch 4/10\n",
            "105/105 [==============================] - 26s 250ms/step - loss: 0.2661 - accuracy: 0.9580 - val_loss: 0.3095 - val_accuracy: 0.9310\n",
            "Epoch 5/10\n",
            "105/105 [==============================] - 22s 206ms/step - loss: 0.1403 - accuracy: 0.9655 - val_loss: 0.1522 - val_accuracy: 0.9488\n",
            "Epoch 6/10\n",
            "105/105 [==============================] - 6s 52ms/step - loss: 0.1685 - accuracy: 0.9673 - val_loss: 0.6784 - val_accuracy: 0.9095\n",
            "Epoch 7/10\n",
            "105/105 [==============================] - 6s 55ms/step - loss: 0.2230 - accuracy: 0.9610 - val_loss: 12.5274 - val_accuracy: 0.4238\n",
            "Epoch 8/10\n",
            "105/105 [==============================] - 6s 55ms/step - loss: 0.4234 - accuracy: 0.9509 - val_loss: 1.2797 - val_accuracy: 0.8583\n",
            "27/27 [==============================] - 1s 19ms/step - loss: 0.1522 - accuracy: 0.9488\n",
            "Test accuracy for current configuration: 0.9488095045089722\n",
            "Training model with learning rate: 0.0001, dropout rate: 0.5\n"
          ]
        },
        {
          "name": "stderr",
          "output_type": "stream",
          "text": [
            "WARNING:absl:`lr` is deprecated in Keras optimizer, please use `learning_rate` or use the legacy optimizer, e.g.,tf.keras.optimizers.legacy.Adam.\n"
          ]
        },
        {
          "name": "stdout",
          "output_type": "stream",
          "text": [
            "Epoch 1/10\n",
            "105/105 [==============================] - 25s 203ms/step - loss: 0.9457 - accuracy: 0.9173 - val_loss: 4.7643 - val_accuracy: 0.6655\n",
            "Epoch 2/10\n",
            "105/105 [==============================] - 6s 52ms/step - loss: 0.1753 - accuracy: 0.9586 - val_loss: 8.5491 - val_accuracy: 0.1810\n",
            "Epoch 3/10\n",
            "105/105 [==============================] - 5s 52ms/step - loss: 0.1469 - accuracy: 0.9577 - val_loss: 7.2833 - val_accuracy: 0.1714\n",
            "Epoch 4/10\n",
            "105/105 [==============================] - 6s 54ms/step - loss: 0.1308 - accuracy: 0.9652 - val_loss: 7.6669 - val_accuracy: 0.2060\n",
            "27/27 [==============================] - 1s 19ms/step - loss: 4.7643 - accuracy: 0.6655\n",
            "Test accuracy for current configuration: 0.6654762029647827\n",
            "Training model with learning rate: 0.0001, dropout rate: 0.7\n"
          ]
        },
        {
          "name": "stderr",
          "output_type": "stream",
          "text": [
            "WARNING:absl:`lr` is deprecated in Keras optimizer, please use `learning_rate` or use the legacy optimizer, e.g.,tf.keras.optimizers.legacy.Adam.\n"
          ]
        },
        {
          "name": "stdout",
          "output_type": "stream",
          "text": [
            "Epoch 1/10\n",
            "105/105 [==============================] - 25s 214ms/step - loss: 2.1784 - accuracy: 0.9033 - val_loss: 20.3306 - val_accuracy: 0.4131\n",
            "Epoch 2/10\n",
            "105/105 [==============================] - 22s 208ms/step - loss: 0.8937 - accuracy: 0.9310 - val_loss: 3.5122 - val_accuracy: 0.6119\n",
            "Epoch 3/10\n",
            "105/105 [==============================] - 25s 239ms/step - loss: 0.3580 - accuracy: 0.9530 - val_loss: 0.4428 - val_accuracy: 0.8774\n",
            "Epoch 4/10\n",
            "105/105 [==============================] - 26s 249ms/step - loss: 0.1604 - accuracy: 0.9634 - val_loss: 0.1604 - val_accuracy: 0.9607\n",
            "Epoch 5/10\n",
            "105/105 [==============================] - 6s 53ms/step - loss: 0.1541 - accuracy: 0.9685 - val_loss: 3.4233 - val_accuracy: 0.5024\n",
            "Epoch 6/10\n",
            "105/105 [==============================] - 5s 52ms/step - loss: 0.1158 - accuracy: 0.9690 - val_loss: 0.2054 - val_accuracy: 0.9405\n",
            "Epoch 7/10\n",
            "105/105 [==============================] - 26s 250ms/step - loss: 0.0927 - accuracy: 0.9771 - val_loss: 0.0823 - val_accuracy: 0.9702\n",
            "Epoch 8/10\n",
            "105/105 [==============================] - 5s 51ms/step - loss: 0.1538 - accuracy: 0.9705 - val_loss: 2.7412 - val_accuracy: 0.8869\n",
            "Epoch 9/10\n",
            "105/105 [==============================] - 6s 54ms/step - loss: 0.2125 - accuracy: 0.9634 - val_loss: 0.7219 - val_accuracy: 0.9060\n",
            "Epoch 10/10\n",
            "105/105 [==============================] - 6s 56ms/step - loss: 0.1071 - accuracy: 0.9741 - val_loss: 0.2977 - val_accuracy: 0.8833\n",
            "27/27 [==============================] - 1s 22ms/step - loss: 0.0823 - accuracy: 0.9702\n",
            "Test accuracy for current configuration: 0.9702380895614624\n",
            "Hyperparameter tuning completed.\n",
            "Best test accuracy: 0.9702380895614624\n"
          ]
        }
      ],
      "source": [
        "from tensorflow.keras import layers, models, optimizers\n",
        "from tensorflow.keras.callbacks import EarlyStopping, ModelCheckpoint\n",
        "\n",
        "# Define AlexNet model architecture\n",
        "def create_AlexNet(input_shape, num_classes, learning_rate=0.001, dropout_rate=0.5):\n",
        "    model = models.Sequential([\n",
        "        # First convolutional layer\n",
        "        layers.Conv2D(96, kernel_size=(11, 11), strides=(4, 4), activation='relu', input_shape=input_shape),\n",
        "        layers.MaxPooling2D(pool_size=(3, 3), strides=(2, 2)),\n",
        "        layers.BatchNormalization(),\n",
        "\n",
        "        # Second convolutional layer\n",
        "        layers.Conv2D(256, kernel_size=(5, 5), padding='same', activation='relu'),\n",
        "        layers.MaxPooling2D(pool_size=(3, 3), strides=(2, 2)),\n",
        "        layers.BatchNormalization(),\n",
        "\n",
        "        # Third convolutional layer\n",
        "        layers.Conv2D(384, kernel_size=(3, 3), padding='same', activation='relu'),\n",
        "        layers.Conv2D(384, kernel_size=(3, 3), padding='same', activation='relu'),\n",
        "        layers.Conv2D(256, kernel_size=(3, 3), padding='same', activation='relu'),\n",
        "        layers.MaxPooling2D(pool_size=(3, 3), strides=(2, 2)),\n",
        "        layers.BatchNormalization(),\n",
        "\n",
        "        # Flatten and fully connected layers\n",
        "        layers.Flatten(),\n",
        "        layers.Dense(4096, activation='relu'),\n",
        "        layers.Dropout(dropout_rate),\n",
        "        layers.Dense(4096, activation='relu'),\n",
        "        layers.Dropout(dropout_rate),\n",
        "        layers.Dense(num_classes, activation='softmax')\n",
        "    ])\n",
        "\n",
        "    # Compile the model\n",
        "    optimizer = optimizers.Adam(lr=learning_rate)\n",
        "    model.compile(optimizer=optimizer,\n",
        "                  loss='sparse_categorical_crossentropy',\n",
        "                  metrics=['accuracy'])\n",
        "\n",
        "    return model\n",
        "\n",
        "# Define input shape and number of classes\n",
        "input_shape = (224, 224, 3)\n",
        "num_classes = 2  # 2 classes: Normal and Tuberculosis\n",
        "\n",
        "# Define hyperparameters for tuning\n",
        "learning_rates = [0.001, 0.0001]\n",
        "dropout_rates = [0.5, 0.7]\n",
        "epochs = 10\n",
        "batch_size = 32\n",
        "\n",
        "best_model = None\n",
        "best_accuracy = 0.0\n",
        "\n",
        "# Perform hyperparameter tuning\n",
        "for learning_rate in learning_rates:\n",
        "    for dropout_rate in dropout_rates:\n",
        "        print(f\"Training model with learning rate: {learning_rate}, dropout rate: {dropout_rate}\")\n",
        "\n",
        "        # Create the AlexNet model\n",
        "        model = create_AlexNet(input_shape, num_classes, learning_rate, dropout_rate)\n",
        "\n",
        "        # Define callbacks\n",
        "        early_stopping = EarlyStopping(monitor='val_loss', patience=3, restore_best_weights=True)\n",
        "        model_checkpoint = ModelCheckpoint(filepath='alexnet_best_model.h5', monitor='val_loss', save_best_only=True)\n",
        "\n",
        "        # Train the model\n",
        "        history = model.fit(train_dataset, epochs=epochs, batch_size=batch_size,\n",
        "                            validation_data=test_dataset, callbacks=[early_stopping, model_checkpoint])\n",
        "\n",
        "        # Evaluate the model\n",
        "        _, test_accuracy = model.evaluate(test_dataset)\n",
        "\n",
        "        print(f\"Test accuracy for current configuration: {test_accuracy}\")\n",
        "\n",
        "        # Check if current model is the best so far\n",
        "        if test_accuracy > best_accuracy:\n",
        "            best_accuracy = test_accuracy\n",
        "            best_model = model\n",
        "\n",
        "print(\"Hyperparameter tuning completed.\")\n",
        "print(f\"Best test accuracy: {best_accuracy}\")\n",
        "\n",
        "# Save the best model\n",
        "best_model.save('best_alexnet_model.h5')\n"
      ]
    },
    {
      "cell_type": "code",
      "execution_count": null,
      "metadata": {
        "colab": {
          "base_uri": "https://localhost:8080/",
          "height": 807
        },
        "id": "YcVzC7xuydRq",
        "outputId": "ccea1ee0-646b-42d9-fea0-c4f74ed36957"
      },
      "outputs": [
        {
          "name": "stdout",
          "output_type": "stream",
          "text": [
            "27/27 [==============================] - 1s 34ms/step\n",
            "Accuracy: 0.9702380952380952\n",
            "Precision: 0.9444444444444444\n",
            "Recall: 0.8686131386861314\n",
            "Sensitivity: 0.8686131386861314\n"
          ]
        },
        {
          "data": {
            "image/png": "[encoded data removed]",
            "text/plain": [
              "<Figure size 800x600 with 2 Axes>"
            ]
          },
          "metadata": {},
          "output_type": "display_data"
        },
        {
          "name": "stdout",
          "output_type": "stream",
          "text": [
            "              precision    recall  f1-score   support\n",
            "\n",
            "      Normal       0.97      0.99      0.98       703\n",
            "Tuberculosis       0.94      0.87      0.90       137\n",
            "\n",
            "    accuracy                           0.97       840\n",
            "   macro avg       0.96      0.93      0.94       840\n",
            "weighted avg       0.97      0.97      0.97       840\n",
            "\n"
          ]
        }
      ],
      "source": [
        "import numpy as np\n",
        "from sklearn.metrics import confusion_matrix, classification_report\n",
        "import matplotlib.pyplot as plt\n",
        "import seaborn as sns\n",
        "from tensorflow.keras.models import load_model\n",
        "\n",
        "# Load the best model\n",
        "best_model = load_model('best_alexnet_model.h5')\n",
        "\n",
        "# Predict on the test dataset\n",
        "y_pred = np.argmax(best_model.predict(test_dataset), axis=-1)\n",
        "\n",
        "# Get true labels\n",
        "y_true = np.concatenate([y for x, y in test_dataset], axis=0)\n",
        "\n",
        "# Calculate the confusion matrix\n",
        "cm = confusion_matrix(y_true, y_pred)\n",
        "\n",
        "# Calculate performance metrics\n",
        "accuracy = np.trace(cm) / np.sum(cm)\n",
        "precision = cm[1, 1] / np.sum(cm[:, 1])\n",
        "recall = cm[1, 1] / np.sum(cm[1, :])\n",
        "sensitivity = recall\n",
        "\n",
        "# Print the performance metrics\n",
        "print(\"Accuracy:\", accuracy)\n",
        "print(\"Precision:\", precision)\n",
        "print(\"Recall:\", recall)\n",
        "print(\"Sensitivity:\", sensitivity)\n",
        "\n",
        "# Generate a heatmap for the confusion matrix\n",
        "plt.figure(figsize=(8, 6))\n",
        "sns.heatmap(cm, annot=True, fmt=\"d\", cmap=\"Blues\", xticklabels=[\"Normal\", \"Tuberculosis\"], yticklabels=[\"Normal\", \"Tuberculosis\"])\n",
        "plt.xlabel('Predicted labels')\n",
        "plt.ylabel('True labels')\n",
        "plt.title('Confusion Matrix')\n",
        "plt.show()\n",
        "\n",
        "# Generate classification report\n",
        "print(classification_report(y_true, y_pred, target_names=[\"Normal\", \"Tuberculosis\"]))\n"
      ]
    },
    {
      "cell_type": "code",
      "execution_count": null,
      "metadata": {
        "colab": {
          "base_uri": "https://localhost:8080/"
        },
        "id": "CtPXjXZhMMc2",
        "outputId": "0039974f-d77f-4827-c3ac-89cc241dcfd5"
      },
      "outputs": [
        {
          "name": "stdout",
          "output_type": "stream",
          "text": [
            "Training model with learning rate: 0.001, dropout rate: 0.5\n",
            "Epoch 1/10\n",
            "105/105 [==============================] - ETA: 0s - loss: 0.7947 - accuracy: 0.9107"
          ]
        },
        {
          "name": "stderr",
          "output_type": "stream",
          "text": [
            "/usr/local/lib/python3.10/dist-packages/keras/src/engine/training.py:3103: UserWarning: You are saving your model as an HDF5 file via `model.save()`. This file format is considered legacy. We recommend using instead the native Keras format, e.g. `model.save('my_model.keras')`.\n",
            "  saving_api.save_model(\n"
          ]
        },
        {
          "name": "stdout",
          "output_type": "stream",
          "text": [
            "\b\b\b\b\b\b\b\b\b\b\b\b\b\b\b\b\b\b\b\b\b\b\b\b\b\b\b\b\b\b\b\b\b\b\b\b\b\b\b\b\b\b\b\b\b\b\b\b\b\b\b\b\b\b\b\b\b\b\b\b\b\b\b\b\b\b\b\b\b\b\b\b\b\b\b\b\b\b\b\b\b\b\b\b\r105/105 [==============================] - 19s 92ms/step - loss: 0.7947 - accuracy: 0.9107 - val_loss: 0.3688 - val_accuracy: 0.9131\n",
            "Epoch 2/10\n",
            "105/105 [==============================] - 5s 52ms/step - loss: 0.1309 - accuracy: 0.9643 - val_loss: 2.2914 - val_accuracy: 0.5464\n",
            "Epoch 3/10\n",
            "105/105 [==============================] - 12s 111ms/step - loss: 0.1285 - accuracy: 0.9664 - val_loss: 0.1364 - val_accuracy: 0.9560\n",
            "Epoch 4/10\n",
            "105/105 [==============================] - 5s 50ms/step - loss: 0.1425 - accuracy: 0.9640 - val_loss: 2.5146 - val_accuracy: 0.4810\n",
            "Epoch 5/10\n",
            "105/105 [==============================] - 5s 51ms/step - loss: 0.1007 - accuracy: 0.9711 - val_loss: 3.5373 - val_accuracy: 0.5238\n",
            "Epoch 6/10\n",
            "105/105 [==============================] - 5s 50ms/step - loss: 0.1009 - accuracy: 0.9708 - val_loss: 3.3547 - val_accuracy: 0.5762\n",
            "Epoch 7/10\n",
            "105/105 [==============================] - 6s 53ms/step - loss: 0.1649 - accuracy: 0.9661 - val_loss: 0.5161 - val_accuracy: 0.8571\n",
            "Epoch 8/10\n",
            "105/105 [==============================] - 6s 56ms/step - loss: 0.1236 - accuracy: 0.9732 - val_loss: 0.1730 - val_accuracy: 0.9357\n",
            "27/27 [==============================] - 1s 20ms/step - loss: 0.1364 - accuracy: 0.9560\n",
            "Test accuracy for current configuration: 0.9559524059295654\n",
            "Training model with learning rate: 0.001, dropout rate: 0.7\n",
            "Epoch 1/10\n",
            "105/105 [==============================] - 15s 116ms/step - loss: 1.7563 - accuracy: 0.8976 - val_loss: 4.3653 - val_accuracy: 0.7929\n",
            "Epoch 2/10\n",
            "105/105 [==============================] - 6s 54ms/step - loss: 0.6239 - accuracy: 0.9411 - val_loss: 9.1184 - val_accuracy: 0.3976\n",
            "Epoch 3/10\n",
            "105/105 [==============================] - 12s 114ms/step - loss: 0.2848 - accuracy: 0.9518 - val_loss: 0.2132 - val_accuracy: 0.9679\n",
            "Epoch 4/10\n",
            "105/105 [==============================] - 6s 52ms/step - loss: 0.2057 - accuracy: 0.9586 - val_loss: 6.4677 - val_accuracy: 0.3631\n",
            "Epoch 5/10\n",
            "105/105 [==============================] - 6s 53ms/step - loss: 0.1850 - accuracy: 0.9607 - val_loss: 8.8346 - val_accuracy: 0.2107\n",
            "Epoch 6/10\n",
            "105/105 [==============================] - 5s 50ms/step - loss: 0.1356 - accuracy: 0.9673 - val_loss: 7.5783 - val_accuracy: 0.2345\n",
            "Epoch 7/10\n",
            "105/105 [==============================] - 6s 54ms/step - loss: 0.1573 - accuracy: 0.9619 - val_loss: 0.5677 - val_accuracy: 0.8262\n",
            "Epoch 8/10\n",
            "105/105 [==============================] - 6s 53ms/step - loss: 0.1275 - accuracy: 0.9682 - val_loss: 13.7336 - val_accuracy: 0.2036\n",
            "27/27 [==============================] - 1s 19ms/step - loss: 0.2132 - accuracy: 0.9679\n",
            "Test accuracy for current configuration: 0.9678571224212646\n",
            "Training model with learning rate: 0.0001, dropout rate: 0.5\n",
            "Epoch 1/10\n",
            "105/105 [==============================] - 16s 114ms/step - loss: 0.2876 - accuracy: 0.9393 - val_loss: 4.4724 - val_accuracy: 0.1631\n",
            "Epoch 2/10\n",
            "105/105 [==============================] - 16s 157ms/step - loss: 0.1439 - accuracy: 0.9679 - val_loss: 3.3860 - val_accuracy: 0.1631\n",
            "Epoch 3/10\n",
            "105/105 [==============================] - 36s 348ms/step - loss: 0.1372 - accuracy: 0.9676 - val_loss: 1.4997 - val_accuracy: 0.4929\n",
            "Epoch 4/10\n",
            "105/105 [==============================] - 28s 267ms/step - loss: 0.0915 - accuracy: 0.9753 - val_loss: 0.3275 - val_accuracy: 0.8571\n",
            "Epoch 5/10\n",
            "105/105 [==============================] - 28s 265ms/step - loss: 0.0495 - accuracy: 0.9863 - val_loss: 0.1410 - val_accuracy: 0.9524\n",
            "Epoch 6/10\n",
            "105/105 [==============================] - 5s 51ms/step - loss: 0.0591 - accuracy: 0.9866 - val_loss: 69.8156 - val_accuracy: 0.1631\n",
            "Epoch 7/10\n",
            "105/105 [==============================] - 5s 51ms/step - loss: 0.1031 - accuracy: 0.9768 - val_loss: 0.5765 - val_accuracy: 0.8131\n",
            "Epoch 8/10\n",
            "105/105 [==============================] - 5s 52ms/step - loss: 0.1071 - accuracy: 0.9812 - val_loss: 1.0704 - val_accuracy: 0.6333\n",
            "Epoch 9/10\n",
            "105/105 [==============================] - 5s 50ms/step - loss: 0.0300 - accuracy: 0.9908 - val_loss: 0.2859 - val_accuracy: 0.8964\n",
            "Epoch 10/10\n",
            "105/105 [==============================] - 6s 57ms/step - loss: 0.0364 - accuracy: 0.9896 - val_loss: 0.8828 - val_accuracy: 0.7833\n",
            "27/27 [==============================] - 1s 19ms/step - loss: 0.1410 - accuracy: 0.9524\n",
            "Test accuracy for current configuration: 0.9523809552192688\n",
            "Training model with learning rate: 0.0001, dropout rate: 0.7\n",
            "Epoch 1/10\n",
            "105/105 [==============================] - 31s 268ms/step - loss: 0.4236 - accuracy: 0.9158 - val_loss: 4.7016 - val_accuracy: 0.1631\n",
            "Epoch 2/10\n",
            "105/105 [==============================] - 6s 53ms/step - loss: 0.2561 - accuracy: 0.9488 - val_loss: 8.9946 - val_accuracy: 0.1631\n",
            "Epoch 3/10\n",
            "105/105 [==============================] - 27s 256ms/step - loss: 0.2192 - accuracy: 0.9595 - val_loss: 1.7401 - val_accuracy: 0.5726\n",
            "Epoch 4/10\n",
            "105/105 [==============================] - 6s 55ms/step - loss: 0.1399 - accuracy: 0.9688 - val_loss: 2.3778 - val_accuracy: 0.5083\n",
            "Epoch 5/10\n",
            "105/105 [==============================] - 5s 52ms/step - loss: 0.1592 - accuracy: 0.9682 - val_loss: 3.1840 - val_accuracy: 0.5000\n",
            "Epoch 6/10\n",
            "105/105 [==============================] - 27s 256ms/step - loss: 0.1345 - accuracy: 0.9705 - val_loss: 0.8494 - val_accuracy: 0.7095\n",
            "Epoch 7/10\n",
            "105/105 [==============================] - 27s 259ms/step - loss: 0.0979 - accuracy: 0.9810 - val_loss: 0.1633 - val_accuracy: 0.9679\n",
            "Epoch 8/10\n",
            "105/105 [==============================] - 5s 51ms/step - loss: 0.0766 - accuracy: 0.9845 - val_loss: 0.2163 - val_accuracy: 0.9202\n",
            "Epoch 9/10\n",
            "105/105 [==============================] - 5s 51ms/step - loss: 0.0391 - accuracy: 0.9911 - val_loss: 1.6797 - val_accuracy: 0.6369\n",
            "Epoch 10/10\n",
            "105/105 [==============================] - 6s 53ms/step - loss: 0.0601 - accuracy: 0.9854 - val_loss: 0.7425 - val_accuracy: 0.9143\n",
            "27/27 [==============================] - 1s 19ms/step - loss: 0.7425 - accuracy: 0.9143\n",
            "Test accuracy for current configuration: 0.9142857193946838\n",
            "Hyperparameter tuning completed.\n",
            "Best test accuracy: 0.9678571224212646\n"
          ]
        }
      ],
      "source": [
        "import os\n",
        "import numpy as np\n",
        "import cv2\n",
        "from sklearn.model_selection import train_test_split\n",
        "import tensorflow as tf\n",
        "from tensorflow.keras import layers, models, optimizers\n",
        "from tensorflow.keras.callbacks import EarlyStopping, ModelCheckpoint\n",
        "\n",
        "# Define paths\n",
        "data_dir = '/content/TB_Chest_Radiography_Database'\n",
        "normal_dir = os.path.join(data_dir, 'Normal')\n",
        "tb_dir = os.path.join(data_dir, 'Tuberculosis')\n",
        "\n",
        "# Load images and labels\n",
        "normal_images = [os.path.join(normal_dir, img) for img in os.listdir(normal_dir)]\n",
        "tb_images = [os.path.join(tb_dir, img) for img in os.listdir(tb_dir)]\n",
        "images = normal_images + tb_images\n",
        "labels = [0] * len(normal_images) + [1] * len(tb_images)  # 0 for normal, 1 for tuberculosis\n",
        "\n",
        "# Resize and normalize images\n",
        "def preprocess_image(img_path):\n",
        "    img = cv2.imread(img_path)\n",
        "    img = cv2.resize(img, (224, 224))  # Resize to common size\n",
        "    img = img.astype(np.float32) / 255.0  # Normalize pixel values\n",
        "    return img\n",
        "\n",
        "# Preprocess all images\n",
        "processed_images = [preprocess_image(img) for img in images]\n",
        "\n",
        "# Split dataset into train and test sets\n",
        "train_images, test_images, train_labels, test_labels = train_test_split(processed_images, labels, test_size=0.2, random_state=42)\n",
        "\n",
        "# Convert to TensorFlow tensors\n",
        "train_dataset = tf.data.Dataset.from_tensor_slices((train_images, train_labels))\n",
        "test_dataset = tf.data.Dataset.from_tensor_slices((test_images, test_labels))\n",
        "\n",
        "# Shuffle and batch the datasets\n",
        "BATCH_SIZE = 32\n",
        "train_dataset = train_dataset.shuffle(buffer_size=len(train_images)).batch(BATCH_SIZE)\n",
        "test_dataset = test_dataset.batch(BATCH_SIZE)\n",
        "\n",
        "# Define AlexNet model architecture\n",
        "def create_AlexNet(input_shape, num_classes, learning_rate=0.001, dropout_rate=0.5):\n",
        "    model = models.Sequential([\n",
        "        layers.Conv2D(96, (11, 11), strides=(4, 4), activation='relu', input_shape=input_shape),\n",
        "        layers.MaxPooling2D((3, 3), strides=(2, 2)),\n",
        "        layers.BatchNormalization(),\n",
        "\n",
        "        layers.Conv2D(256, (5, 5), padding='same', activation='relu'),\n",
        "        layers.MaxPooling2D((3, 3), strides=(2, 2)),\n",
        "        layers.BatchNormalization(),\n",
        "\n",
        "        layers.Conv2D(384, (3, 3), padding='same', activation='relu'),\n",
        "        layers.Conv2D(384, (3, 3), padding='same', activation='relu'),\n",
        "        layers.Conv2D(256, (3, 3), padding='same', activation='relu'),\n",
        "        layers.MaxPooling2D((3, 3), strides=(2, 2)),\n",
        "        layers.BatchNormalization(),\n",
        "\n",
        "        layers.Flatten(),\n",
        "        layers.Dense(4096, activation='relu'),\n",
        "        layers.Dropout(dropout_rate),\n",
        "        layers.Dense(4096, activation='relu'),\n",
        "        layers.Dropout(dropout_rate),\n",
        "        layers.Dense(num_classes, activation='softmax')\n",
        "    ])\n",
        "\n",
        "    # Compile the model\n",
        "    optimizer = optimizers.Adam(learning_rate=learning_rate)\n",
        "    model.compile(optimizer=optimizer,\n",
        "                  loss='sparse_categorical_crossentropy',\n",
        "                  metrics=['accuracy'])\n",
        "\n",
        "    return model\n",
        "\n",
        "# Define input shape and number of classes\n",
        "input_shape = (224, 224, 3)\n",
        "num_classes = 2  # 2 classes: Normal and Tuberculosis\n",
        "\n",
        "# Define hyperparameters for tuning\n",
        "learning_rates = [0.001, 0.0001]\n",
        "dropout_rates = [0.5, 0.7]\n",
        "epochs = 10\n",
        "batch_size = 32\n",
        "early_stopping_patience = 5  # Adjusted early stopping patience\n",
        "\n",
        "best_model = None\n",
        "best_accuracy = 0.0\n",
        "\n",
        "# Perform hyperparameter tuning\n",
        "for learning_rate in learning_rates:\n",
        "    for dropout_rate in dropout_rates:\n",
        "        print(f\"Training model with learning rate: {learning_rate}, dropout rate: {dropout_rate}\")\n",
        "\n",
        "        # Create the AlexNet model\n",
        "        model = create_AlexNet(input_shape, num_classes, learning_rate, dropout_rate)\n",
        "\n",
        "        # Define callbacks\n",
        "        early_stopping = EarlyStopping(monitor='val_loss', patience=early_stopping_patience, restore_best_weights=True)\n",
        "        model_checkpoint = ModelCheckpoint(filepath='alexnet_best_model.h5', monitor='val_loss', save_best_only=True)\n",
        "\n",
        "        # Train the model\n",
        "        history = model.fit(train_dataset, epochs=epochs, batch_size=batch_size,\n",
        "                            validation_data=test_dataset, callbacks=[early_stopping, model_checkpoint])\n",
        "\n",
        "        # Evaluate the model\n",
        "        _, test_accuracy = model.evaluate(test_dataset)\n",
        "\n",
        "        print(f\"Test accuracy for current configuration: {test_accuracy}\")\n",
        "\n",
        "        # Check if current model is the best so far\n",
        "        if test_accuracy > best_accuracy:\n",
        "            best_accuracy = test_accuracy\n",
        "            best_model = model\n",
        "\n",
        "print(\"Hyperparameter tuning completed.\")\n",
        "print(f\"Best test accuracy: {best_accuracy}\")\n",
        "\n",
        "# Save the best model\n",
        "best_model.save('best_alexnet_model.h5')\n"
      ]
    },
    {
      "cell_type": "code",
      "execution_count": null,
      "metadata": {
        "colab": {
          "base_uri": "https://localhost:8080/"
        },
        "id": "V_GltXXzdJat",
        "outputId": "5e2c0e2d-7a86-4c8d-c872-438742929d78"
      },
      "outputs": [
        {
          "name": "stderr",
          "output_type": "stream",
          "text": [
            "WARNING:absl:`lr` is deprecated in Keras optimizer, please use `learning_rate` or use the legacy optimizer, e.g.,tf.keras.optimizers.legacy.Adam.\n"
          ]
        },
        {
          "name": "stdout",
          "output_type": "stream",
          "text": [
            "Epoch 1/10\n",
            "105/105 [==============================] - ETA: 0s - loss: 0.8046 - accuracy: 0.8940"
          ]
        },
        {
          "name": "stderr",
          "output_type": "stream",
          "text": [
            "/usr/local/lib/python3.10/dist-packages/keras/src/engine/training.py:3103: UserWarning: You are saving your model as an HDF5 file via `model.save()`. This file format is considered legacy. We recommend using instead the native Keras format, e.g. `model.save('my_model.keras')`.\n",
            "  saving_api.save_model(\n"
          ]
        },
        {
          "name": "stdout",
          "output_type": "stream",
          "text": [
            "105/105 [==============================] - 653s 6s/step - loss: 0.8046 - accuracy: 0.8940 - val_loss: 0.6226 - val_accuracy: 0.7833\n",
            "Epoch 2/10\n",
            "105/105 [==============================] - 637s 6s/step - loss: 0.1854 - accuracy: 0.9384 - val_loss: 1.5393 - val_accuracy: 0.4893\n",
            "Epoch 3/10\n",
            "105/105 [==============================] - 631s 6s/step - loss: 0.2116 - accuracy: 0.9360 - val_loss: 0.2408 - val_accuracy: 0.8976\n",
            "Epoch 4/10\n",
            "105/105 [==============================] - 623s 6s/step - loss: 0.1786 - accuracy: 0.9354 - val_loss: 0.2851 - val_accuracy: 0.9095\n",
            "Epoch 5/10\n",
            "105/105 [==============================] - 620s 6s/step - loss: 0.1916 - accuracy: 0.9351 - val_loss: 0.6339 - val_accuracy: 0.7631\n",
            "Epoch 6/10\n",
            "105/105 [==============================] - 617s 6s/step - loss: 0.1824 - accuracy: 0.9402 - val_loss: 1.0084 - val_accuracy: 0.4190\n",
            "27/27 [==============================] - 34s 1s/step - loss: 0.2408 - accuracy: 0.8976\n",
            "Test accuracy: 0.8976190686225891\n"
          ]
        }
      ],
      "source": [
        "import os\n",
        "import numpy as np\n",
        "import cv2\n",
        "from sklearn.model_selection import train_test_split\n",
        "import tensorflow as tf\n",
        "from tensorflow.keras import layers, models, optimizers\n",
        "from tensorflow.keras.callbacks import EarlyStopping, ModelCheckpoint\n",
        "from tensorflow.keras.preprocessing.image import ImageDataGenerator\n",
        "\n",
        "# Define paths\n",
        "data_dir = '/content/TB_Chest_Radiography_Database'\n",
        "normal_dir = os.path.join(data_dir, 'Normal')\n",
        "tb_dir = os.path.join(data_dir, 'Tuberculosis')\n",
        "\n",
        "# Load images and labels\n",
        "normal_images = [os.path.join(normal_dir, img) for img in os.listdir(normal_dir)]\n",
        "tb_images = [os.path.join(tb_dir, img) for img in os.listdir(tb_dir)]\n",
        "images = normal_images + tb_images\n",
        "labels = [0] * len(normal_images) + [1] * len(tb_images)  # 0 for normal, 1 for tuberculosis\n",
        "\n",
        "# Resize and normalize images\n",
        "def preprocess_image(img_path):\n",
        "    img = cv2.imread(img_path)\n",
        "    img = cv2.resize(img, (224, 224))  # Resize to common size\n",
        "    img = img.astype(np.float32) / 255.0  # Normalize pixel values\n",
        "    return img\n",
        "\n",
        "# Preprocess all images\n",
        "processed_images = [preprocess_image(img) for img in images]\n",
        "\n",
        "# Split dataset into train and test sets\n",
        "train_images, test_images, train_labels, test_labels = train_test_split(\n",
        "    processed_images, labels, test_size=0.2, random_state=42)\n",
        "\n",
        "# Data augmentation\n",
        "datagen = ImageDataGenerator(\n",
        "    rotation_range=20,\n",
        "    width_shift_range=0.2,\n",
        "    height_shift_range=0.2,\n",
        "    shear_range=0.2,\n",
        "    zoom_range=0.2,\n",
        "    horizontal_flip=True,\n",
        "    fill_mode='nearest'\n",
        ")\n",
        "\n",
        "train_dataset = datagen.flow(np.array(train_images), np.array(train_labels), batch_size=32)\n",
        "test_dataset = tf.data.Dataset.from_tensor_slices((test_images, test_labels)).batch(32)\n",
        "\n",
        "# Define AlexNet model architecture\n",
        "def create_AlexNet(input_shape, num_classes, learning_rate=0.001, dropout_rate=0.5):\n",
        "    model = models.Sequential([\n",
        "        layers.Conv2D(96, kernel_size=(11, 11), strides=(4, 4), activation='relu', input_shape=input_shape),\n",
        "        layers.MaxPooling2D(pool_size=(3, 3), strides=(2, 2)),\n",
        "        layers.BatchNormalization(),\n",
        "\n",
        "        layers.Conv2D(256, kernel_size=(5, 5), padding='same', activation='relu'),\n",
        "        layers.MaxPooling2D(pool_size=(3, 3), strides=(2, 2)),\n",
        "        layers.BatchNormalization(),\n",
        "\n",
        "        layers.Conv2D(384, kernel_size=(3, 3), padding='same', activation='relu'),\n",
        "        layers.Conv2D(384, kernel_size=(3, 3), padding='same', activation='relu'),\n",
        "        layers.Conv2D(256, kernel_size=(3, 3), padding='same', activation='relu'),\n",
        "        layers.MaxPooling2D(pool_size=(3, 3), strides=(2, 2)),\n",
        "        layers.BatchNormalization(),\n",
        "\n",
        "        layers.Flatten(),\n",
        "        layers.Dense(4096, activation='relu'),\n",
        "        layers.Dropout(dropout_rate),\n",
        "        layers.Dense(4096, activation='relu'),\n",
        "        layers.Dropout(dropout_rate),\n",
        "        layers.Dense(num_classes, activation='softmax')\n",
        "    ])\n",
        "\n",
        "    optimizer = optimizers.Adam(lr=learning_rate)\n",
        "    model.compile(optimizer=optimizer,\n",
        "                  loss='sparse_categorical_crossentropy',\n",
        "                  metrics=['accuracy'])\n",
        "\n",
        "    return model\n",
        "\n",
        "# Define input shape and number of classes\n",
        "input_shape = (224, 224, 3)\n",
        "num_classes = 2  # 2 classes: Normal and Tuberculosis\n",
        "\n",
        "# Define hyperparameters for tuning\n",
        "learning_rates = [0.001]\n",
        "dropout_rates = [0.5]\n",
        "epochs = 10\n",
        "batch_size = 32\n",
        "\n",
        "# Create the AlexNet model\n",
        "model = create_AlexNet(input_shape, num_classes)\n",
        "\n",
        "# Define callbacks\n",
        "early_stopping = EarlyStopping(monitor='val_loss', patience=3, restore_best_weights=True)\n",
        "model_checkpoint = ModelCheckpoint(filepath='alexnet_best_model.h5', monitor='val_loss', save_best_only=True)\n",
        "\n",
        "# Train the model\n",
        "history = model.fit(train_dataset, epochs=epochs, batch_size=batch_size,\n",
        "                    validation_data=test_dataset, callbacks=[early_stopping, model_checkpoint])\n",
        "\n",
        "# Evaluate the model\n",
        "_, test_accuracy = model.evaluate(test_dataset)\n",
        "\n",
        "print(f\"Test accuracy: {test_accuracy}\")\n",
        "\n",
        "# Save the best model\n",
        "model.save('best_alexnet_model.h5')\n"
      ]
    },
    {
      "cell_type": "code",
      "execution_count": null,
      "metadata": {
        "colab": {
          "base_uri": "https://localhost:8080/",
          "height": 807
        },
        "id": "sgwLtY6Ffqgv",
        "outputId": "32352964-cca7-4cf0-c3f8-ce4596eb6220"
      },
      "outputs": [
        {
          "name": "stdout",
          "output_type": "stream",
          "text": [
            "27/27 [==============================] - 34s 1s/step\n",
            "Accuracy: 0.8976190476190476\n",
            "Precision: 0.7865168539325843\n",
            "Recall: 0.5109489051094891\n",
            "Sensitivity: 0.5109489051094891\n"
          ]
        },
        {
          "data": {
            "image/png": "[encoded data removed]",
            "text/plain": [
              "<Figure size 800x600 with 2 Axes>"
            ]
          },
          "metadata": {},
          "output_type": "display_data"
        },
        {
          "name": "stdout",
          "output_type": "stream",
          "text": [
            "              precision    recall  f1-score   support\n",
            "\n",
            "      Normal       0.91      0.97      0.94       703\n",
            "Tuberculosis       0.79      0.51      0.62       137\n",
            "\n",
            "    accuracy                           0.90       840\n",
            "   macro avg       0.85      0.74      0.78       840\n",
            "weighted avg       0.89      0.90      0.89       840\n",
            "\n"
          ]
        }
      ],
      "source": [
        "import numpy as np\n",
        "from sklearn.metrics import confusion_matrix, classification_report\n",
        "import matplotlib.pyplot as plt\n",
        "import seaborn as sns\n",
        "from tensorflow.keras.models import load_model\n",
        "\n",
        "# Load the best model\n",
        "best_model = load_model('best_alexnet_model.h5')\n",
        "\n",
        "# Predict on the test dataset\n",
        "y_pred = np.argmax(best_model.predict(test_dataset), axis=-1)\n",
        "\n",
        "# Get true labels\n",
        "y_true = np.concatenate([y for x, y in test_dataset], axis=0)\n",
        "\n",
        "# Calculate the confusion matrix\n",
        "cm = confusion_matrix(y_true, y_pred)\n",
        "\n",
        "# Calculate performance metrics\n",
        "accuracy = np.trace(cm) / np.sum(cm)\n",
        "precision = cm[1, 1] / np.sum(cm[:, 1])\n",
        "recall = cm[1, 1] / np.sum(cm[1, :])\n",
        "sensitivity = recall\n",
        "\n",
        "# Print the performance metrics\n",
        "print(\"Accuracy:\", accuracy)\n",
        "print(\"Precision:\", precision)\n",
        "print(\"Recall:\", recall)\n",
        "print(\"Sensitivity:\", sensitivity)\n",
        "\n",
        "# Generate a heatmap for the confusion matrix\n",
        "plt.figure(figsize=(8, 6))\n",
        "sns.heatmap(cm, annot=True, fmt=\"d\", cmap=\"Blues\", xticklabels=[\"Normal\", \"Tuberculosis\"], yticklabels=[\"Normal\", \"Tuberculosis\"])\n",
        "plt.xlabel('Predicted labels')\n",
        "plt.ylabel('True labels')\n",
        "plt.title('Confusion Matrix')\n",
        "plt.show()\n",
        "\n",
        "# Generate classification report\n",
        "print(classification_report(y_true, y_pred, target_names=[\"Normal\", \"Tuberculosis\"]))\n"
      ]
    },
    {
      "cell_type": "code",
      "execution_count": null,
      "metadata": {
        "colab": {
          "base_uri": "https://localhost:8080/",
          "height": 211
        },
        "id": "JAPbXyfYD6Ga",
        "outputId": "565452a3-fcd2-420a-8e87-f11bf74d443e"
      },
      "outputs": [
        {
          "ename": "NameError",
          "evalue": "name 'BATCH_SIZE' is not defined",
          "output_type": "error",
          "traceback": [
            "\u001b[0;31m---------------------------------------------------------------------------\u001b[0m",
            "\u001b[0;31mNameError\u001b[0m                                 Traceback (most recent call last)",
            "\u001b[0;32m<ipython-input-3-26a158780985>\u001b[0m in \u001b[0;36m<cell line: 46>\u001b[0;34m()\u001b[0m\n\u001b[1;32m     44\u001b[0m \u001b[0;34m\u001b[0m\u001b[0m\n\u001b[1;32m     45\u001b[0m \u001b[0;31m# Train data augmentation generator\u001b[0m\u001b[0;34m\u001b[0m\u001b[0;34m\u001b[0m\u001b[0m\n\u001b[0;32m---> 46\u001b[0;31m \u001b[0mtrain_generator\u001b[0m \u001b[0;34m=\u001b[0m \u001b[0mtrain_datagen\u001b[0m\u001b[0;34m.\u001b[0m\u001b[0mflow\u001b[0m\u001b[0;34m(\u001b[0m\u001b[0mnp\u001b[0m\u001b[0;34m.\u001b[0m\u001b[0marray\u001b[0m\u001b[0;34m(\u001b[0m\u001b[0mtrain_images\u001b[0m\u001b[0;34m)\u001b[0m\u001b[0;34m,\u001b[0m \u001b[0mtrain_labels\u001b[0m\u001b[0;34m,\u001b[0m \u001b[0mbatch_size\u001b[0m\u001b[0;34m=\u001b[0m\u001b[0mBATCH_SIZE\u001b[0m\u001b[0;34m)\u001b[0m\u001b[0;34m\u001b[0m\u001b[0;34m\u001b[0m\u001b[0m\n\u001b[0m\u001b[1;32m     47\u001b[0m \u001b[0;34m\u001b[0m\u001b[0m\n\u001b[1;32m     48\u001b[0m \u001b[0;31m# Test data generator (only rescaling)\u001b[0m\u001b[0;34m\u001b[0m\u001b[0;34m\u001b[0m\u001b[0m\n",
            "\u001b[0;31mNameError\u001b[0m: name 'BATCH_SIZE' is not defined"
          ]
        }
      ],
      "source": [
        "import os\n",
        "import numpy as np\n",
        "import cv2\n",
        "from sklearn.model_selection import train_test_split\n",
        "import tensorflow as tf\n",
        "from tensorflow.keras import layers, models, optimizers\n",
        "from tensorflow.keras.callbacks import EarlyStopping, ModelCheckpoint\n",
        "from tensorflow.keras.preprocessing.image import ImageDataGenerator\n",
        "\n",
        "# Define paths\n",
        "data_dir = '/content/TB_Chest_Radiography_Database'\n",
        "normal_dir = os.path.join(data_dir, 'Normal')\n",
        "tb_dir = os.path.join(data_dir, 'Tuberculosis')\n",
        "\n",
        "# Load images and labels\n",
        "normal_images = [os.path.join(normal_dir, img) for img in os.listdir(normal_dir)]\n",
        "tb_images = [os.path.join(tb_dir, img) for img in os.listdir(tb_dir)]\n",
        "images = normal_images + tb_images\n",
        "labels = [0] * len(normal_images) + [1] * len(tb_images)  # 0 for normal, 1 for tuberculosis\n",
        "\n",
        "# Resize images\n",
        "def preprocess_image(img_path):\n",
        "    img = cv2.imread(img_path)\n",
        "    img = cv2.resize(img, (224, 224))\n",
        "    img = img.astype(np.float32) / 255.0\n",
        "    return img\n",
        "\n",
        "# Preprocess all images\n",
        "processed_images = [preprocess_image(img) for img in images]\n",
        "\n",
        "# Split dataset into train and test sets\n",
        "train_images, test_images, train_labels, test_labels = train_test_split(processed_images, labels, test_size=0.2, random_state=42)\n",
        "\n",
        "# Define data augmentation parameters\n",
        "train_datagen = ImageDataGenerator(\n",
        "    rotation_range=20,\n",
        "    width_shift_range=0.1,\n",
        "    height_shift_range=0.1,\n",
        "    shear_range=0.2,\n",
        "    zoom_range=0.2,\n",
        "    horizontal_flip=True,\n",
        "    fill_mode='nearest'\n",
        ")\n",
        "\n",
        "# Train data augmentation generator\n",
        "train_generator = train_datagen.flow(np.array(train_images), train_labels, batch_size=BATCH_SIZE)\n",
        "\n",
        "# Test data generator (only rescaling)\n",
        "test_datagen = ImageDataGenerator(rescale=1./255)\n",
        "\n",
        "# Test data generator\n",
        "test_generator = test_datagen.flow(np.array(test_images), test_labels, batch_size=BATCH_SIZE)\n",
        "\n",
        "# Define AlexNet model architecture\n",
        "def create_AlexNet(input_shape, num_classes, learning_rate=0.001, dropout_rate=0.5):\n",
        "    model = models.Sequential([\n",
        "        # First convolutional layer\n",
        "        layers.Conv2D(96, kernel_size=(11, 11), strides=(4, 4), activation='relu', input_shape=input_shape),\n",
        "        layers.MaxPooling2D(pool_size=(3, 3), strides=(2, 2)),\n",
        "        layers.BatchNormalization(),\n",
        "\n",
        "        # Second convolutional layer\n",
        "        layers.Conv2D(256, kernel_size=(5, 5), padding='same', activation='relu'),\n",
        "        layers.MaxPooling2D(pool_size=(3, 3), strides=(2, 2)),\n",
        "        layers.BatchNormalization(),\n",
        "\n",
        "        # Third convolutional layer\n",
        "        layers.Conv2D(384, kernel_size=(3, 3), padding='same', activation='relu'),\n",
        "        layers.Conv2D(384, kernel_size=(3, 3), padding='same', activation='relu'),\n",
        "        layers.Conv2D(256, kernel_size=(3, 3), padding='same', activation='relu'),\n",
        "        layers.MaxPooling2D(pool_size=(3, 3), strides=(2, 2)),\n",
        "        layers.BatchNormalization(),\n",
        "\n",
        "        # Flatten and fully connected layers\n",
        "        layers.Flatten(),\n",
        "        layers.Dense(4096, activation='relu'),\n",
        "        layers.Dropout(dropout_rate),\n",
        "        layers.Dense(4096, activation='relu'),\n",
        "        layers.Dropout(dropout_rate),\n",
        "        layers.Dense(num_classes, activation='softmax')\n",
        "    ])\n",
        "\n",
        "    # Compile the model\n",
        "    optimizer = optimizers.Adam(lr=learning_rate)\n",
        "    model.compile(optimizer=optimizer,\n",
        "                  loss='sparse_categorical_crossentropy',\n",
        "                  metrics=['accuracy'])\n",
        "\n",
        "    return model\n",
        "\n",
        "# Define input shape and number of classes\n",
        "input_shape = (224, 224, 3)\n",
        "num_classes = 2  # 2 classes: Normal and Tuberculosis\n",
        "\n",
        "# Define hyperparameters for tuning\n",
        "learning_rates = [0.001, 0.0001]\n",
        "dropout_rates = [0.5, 0.7]\n",
        "epochs = 10\n",
        "batch_size = 32\n",
        "\n",
        "best_model = None\n",
        "best_accuracy = 0.0\n",
        "\n",
        "# Perform hyperparameter tuning\n",
        "for learning_rate in learning_rates:\n",
        "    for dropout_rate in dropout_rates:\n",
        "        print(f\"Training model with learning rate: {learning_rate}, dropout rate: {dropout_rate}\")\n",
        "\n",
        "        # Create the AlexNet model\n",
        "        model = create_AlexNet(input_shape, num_classes, learning_rate, dropout_rate)\n",
        "\n",
        "        # Define callbacks\n",
        "        early_stopping = EarlyStopping(monitor='val_loss', patience=3, restore_best_weights=True)\n",
        "        model_checkpoint = ModelCheckpoint(filepath='alexnet_best_model.h5', monitor='val_loss', save_best_only=True)\n",
        "\n",
        "        # Train the model\n",
        "        history = model.fit_generator(\n",
        "            train_generator,\n",
        "            steps_per_epoch=len(train_images) // batch_size,\n",
        "            epochs=epochs,\n",
        "            validation_data=test_generator,\n",
        "            validation_steps=len(test_images) // batch_size,\n",
        "            callbacks=[early_stopping, model_checkpoint]\n",
        "        )\n",
        "\n",
        "        # Evaluate the model\n",
        "        _, test_accuracy = model.evaluate(test_generator)\n",
        "\n",
        "        print(f\"Test accuracy for current configuration: {test_accuracy}\")\n",
        "\n",
        "        # Check if current model is the best so far\n",
        "        if test_accuracy > best_accuracy:\n",
        "            best_accuracy = test_accuracy\n",
        "            best_model = model\n",
        "\n",
        "print(\"Hyperparameter tuning completed.\")\n",
        "print(f\"Best test accuracy: {best_accuracy}\")\n",
        "\n",
        "# Save the best model\n",
        "best_model.save('best_alexnet_model.h5')\n"
      ]
    },
    {
      "cell_type": "code",
      "execution_count": null,
      "metadata": {
        "colab": {
          "base_uri": "https://localhost:8080/"
        },
        "id": "F_LkdGm4yoCf",
        "outputId": "86295325-a55f-4b54-c605-f26192714767"
      },
      "outputs": [
        {
          "name": "stdout",
          "output_type": "stream",
          "text": [
            "Training model with learning rate: 0.001, dropout rate: 0.5\n"
          ]
        },
        {
          "name": "stderr",
          "output_type": "stream",
          "text": [
            "WARNING:absl:`lr` is deprecated in Keras optimizer, please use `learning_rate` or use the legacy optimizer, e.g.,tf.keras.optimizers.legacy.Adam.\n"
          ]
        },
        {
          "name": "stdout",
          "output_type": "stream",
          "text": [
            "Epoch 1/10\n",
            "105/105 [==============================] - ETA: 0s - loss: 1.1815 - accuracy: 0.9143"
          ]
        },
        {
          "name": "stderr",
          "output_type": "stream",
          "text": [
            "/usr/local/lib/python3.10/dist-packages/keras/src/engine/training.py:3103: UserWarning: You are saving your model as an HDF5 file via `model.save()`. This file format is considered legacy. We recommend using instead the native Keras format, e.g. `model.save('my_model.keras')`.\n",
            "  saving_api.save_model(\n"
          ]
        },
        {
          "name": "stdout",
          "output_type": "stream",
          "text": [
            "\b\b\b\b\b\b\b\b\b\b\b\b\b\b\b\b\b\b\b\b\b\b\b\b\b\b\b\b\b\b\b\b\b\b\b\b\b\b\b\b\b\b\b\b\b\b\b\b\b\b\b\b\b\b\b\b\b\b\b\b\b\b\b\b\b\b\b\b\b\b\b\b\b\b\b\b\b\b\b\b\b\b\b\b\r105/105 [==============================] - 511s 5s/step - loss: 1.1815 - accuracy: 0.9143 - val_loss: 0.9735 - val_accuracy: 0.8762\n",
            "Epoch 2/10\n",
            "105/105 [==============================] - 495s 5s/step - loss: 0.1689 - accuracy: 0.9628 - val_loss: 3.7249 - val_accuracy: 0.4071\n",
            "Epoch 3/10\n",
            "105/105 [==============================] - 509s 5s/step - loss: 0.1413 - accuracy: 0.9658 - val_loss: 0.5270 - val_accuracy: 0.8857\n",
            "Epoch 4/10\n",
            "105/105 [==============================] - 527s 5s/step - loss: 0.1136 - accuracy: 0.9673 - val_loss: 0.2581 - val_accuracy: 0.9548\n",
            "Epoch 5/10\n",
            "105/105 [==============================] - 531s 5s/step - loss: 0.0991 - accuracy: 0.9753 - val_loss: 0.1704 - val_accuracy: 0.9488\n",
            "Epoch 6/10\n",
            "105/105 [==============================] - 515s 5s/step - loss: 0.1118 - accuracy: 0.9690 - val_loss: 2.3221 - val_accuracy: 0.5202\n",
            "Epoch 7/10\n",
            "105/105 [==============================] - 497s 5s/step - loss: 0.1155 - accuracy: 0.9705 - val_loss: 3.2234 - val_accuracy: 0.5024\n",
            "Epoch 8/10\n",
            "105/105 [==============================] - 495s 5s/step - loss: 0.1147 - accuracy: 0.9729 - val_loss: 27.3706 - val_accuracy: 0.1690\n",
            "27/27 [==============================] - 28s 1s/step - loss: 0.1704 - accuracy: 0.9488\n",
            "Test accuracy for current configuration: 0.9488095045089722\n",
            "Training model with learning rate: 0.001, dropout rate: 0.7\n"
          ]
        },
        {
          "name": "stderr",
          "output_type": "stream",
          "text": [
            "WARNING:absl:`lr` is deprecated in Keras optimizer, please use `learning_rate` or use the legacy optimizer, e.g.,tf.keras.optimizers.legacy.Adam.\n"
          ]
        },
        {
          "name": "stdout",
          "output_type": "stream",
          "text": [
            "Epoch 1/10\n",
            "105/105 [==============================] - 515s 5s/step - loss: 2.6352 - accuracy: 0.8884 - val_loss: 2.4926 - val_accuracy: 0.8774\n",
            "Epoch 2/10\n",
            "105/105 [==============================] - 510s 5s/step - loss: 0.8444 - accuracy: 0.9390 - val_loss: 0.7665 - val_accuracy: 0.9131\n",
            "Epoch 3/10\n",
            "105/105 [==============================] - 487s 5s/step - loss: 0.3688 - accuracy: 0.9527 - val_loss: 3.1431 - val_accuracy: 0.6619\n",
            "Epoch 4/10\n",
            "105/105 [==============================] - 509s 5s/step - loss: 0.1848 - accuracy: 0.9670 - val_loss: 0.1393 - val_accuracy: 0.9643\n",
            "Epoch 5/10\n",
            "105/105 [==============================] - 495s 5s/step - loss: 0.1124 - accuracy: 0.9741 - val_loss: 0.2025 - val_accuracy: 0.9631\n",
            "Epoch 6/10\n",
            "105/105 [==============================] - 491s 5s/step - loss: 0.1329 - accuracy: 0.9702 - val_loss: 0.3295 - val_accuracy: 0.9476\n",
            "Epoch 7/10\n",
            "105/105 [==============================] - 490s 5s/step - loss: 0.1197 - accuracy: 0.9711 - val_loss: 2.1913 - val_accuracy: 0.7226\n",
            "27/27 [==============================] - 28s 1s/step - loss: 0.1393 - accuracy: 0.9643\n",
            "Test accuracy for current configuration: 0.9642857313156128\n",
            "Training model with learning rate: 0.0001, dropout rate: 0.5\n"
          ]
        },
        {
          "name": "stderr",
          "output_type": "stream",
          "text": [
            "WARNING:absl:`lr` is deprecated in Keras optimizer, please use `learning_rate` or use the legacy optimizer, e.g.,tf.keras.optimizers.legacy.Adam.\n"
          ]
        },
        {
          "name": "stdout",
          "output_type": "stream",
          "text": [
            "Epoch 1/10\n",
            "105/105 [==============================] - 525s 5s/step - loss: 0.6823 - accuracy: 0.9143 - val_loss: 0.7723 - val_accuracy: 0.7310\n",
            "Epoch 2/10\n",
            "105/105 [==============================] - 500s 5s/step - loss: 0.1718 - accuracy: 0.9524 - val_loss: 0.1194 - val_accuracy: 0.9631\n",
            "Epoch 3/10\n",
            "105/105 [==============================] - 494s 5s/step - loss: 0.1115 - accuracy: 0.9682 - val_loss: 1.2370 - val_accuracy: 0.8012\n",
            "Epoch 4/10\n",
            "105/105 [==============================] - 488s 5s/step - loss: 0.1836 - accuracy: 0.9494 - val_loss: 2.7382 - val_accuracy: 0.5381\n",
            "Epoch 5/10\n",
            "105/105 [==============================] - 488s 5s/step - loss: 0.1320 - accuracy: 0.9670 - val_loss: 3.3574 - val_accuracy: 0.2881\n",
            "27/27 [==============================] - 28s 1s/step - loss: 0.1194 - accuracy: 0.9631\n",
            "Test accuracy for current configuration: 0.9630952477455139\n",
            "Training model with learning rate: 0.0001, dropout rate: 0.7\n"
          ]
        },
        {
          "name": "stderr",
          "output_type": "stream",
          "text": [
            "WARNING:absl:`lr` is deprecated in Keras optimizer, please use `learning_rate` or use the legacy optimizer, e.g.,tf.keras.optimizers.legacy.Adam.\n"
          ]
        },
        {
          "name": "stdout",
          "output_type": "stream",
          "text": [
            "Epoch 1/10\n",
            "105/105 [==============================] - 528s 5s/step - loss: 3.1072 - accuracy: 0.8842 - val_loss: 41.1425 - val_accuracy: 0.2881\n",
            "Epoch 2/10\n",
            "105/105 [==============================] - 520s 5s/step - loss: 0.7005 - accuracy: 0.9369 - val_loss: 0.3512 - val_accuracy: 0.9571\n",
            "Epoch 3/10\n",
            "105/105 [==============================] - 493s 5s/step - loss: 0.3048 - accuracy: 0.9595 - val_loss: 2.3487 - val_accuracy: 0.8464\n",
            "Epoch 4/10\n",
            "105/105 [==============================] - 488s 5s/step - loss: 0.2209 - accuracy: 0.9568 - val_loss: 0.6096 - val_accuracy: 0.8738\n",
            "Epoch 5/10\n",
            "105/105 [==============================] - 487s 5s/step - loss: 0.1868 - accuracy: 0.9610 - val_loss: 0.4546 - val_accuracy: 0.8845\n",
            "27/27 [==============================] - 28s 1s/step - loss: 0.3512 - accuracy: 0.9571\n",
            "Test accuracy for current configuration: 0.9571428298950195\n",
            "Hyperparameter tuning completed.\n",
            "Best test accuracy: 0.9642857313156128\n"
          ]
        }
      ],
      "source": [
        "from tensorflow.keras import layers, models, optimizers\n",
        "from tensorflow.keras.callbacks import EarlyStopping, ModelCheckpoint\n",
        "\n",
        "# Define AlexNet model architecture\n",
        "def create_AlexNet(input_shape, num_classes, learning_rate=0.001, dropout_rate=0.5):\n",
        "    model = models.Sequential([\n",
        "        # First convolutional layer\n",
        "        layers.Conv2D(96, kernel_size=(11, 11), strides=(4, 4), activation='relu', input_shape=input_shape),\n",
        "        layers.MaxPooling2D(pool_size=(3, 3), strides=(2, 2)),\n",
        "        layers.BatchNormalization(),\n",
        "\n",
        "        # Second convolutional layer\n",
        "        layers.Conv2D(256, kernel_size=(5, 5), padding='same', activation='relu'),\n",
        "        layers.MaxPooling2D(pool_size=(3, 3), strides=(2, 2)),\n",
        "        layers.BatchNormalization(),\n",
        "\n",
        "        # Third convolutional layer\n",
        "        layers.Conv2D(384, kernel_size=(3, 3), padding='same', activation='relu'),\n",
        "        layers.Conv2D(384, kernel_size=(3, 3), padding='same', activation='relu'),\n",
        "        layers.Conv2D(256, kernel_size=(3, 3), padding='same', activation='relu'),\n",
        "        layers.MaxPooling2D(pool_size=(3, 3), strides=(2, 2)),\n",
        "        layers.BatchNormalization(),\n",
        "\n",
        "        # Flatten and fully connected layers\n",
        "        layers.Flatten(),\n",
        "        layers.Dense(4096, activation='relu'),\n",
        "        layers.Dropout(dropout_rate),\n",
        "        layers.Dense(4096, activation='relu'),\n",
        "        layers.Dropout(dropout_rate),\n",
        "        layers.Dense(num_classes, activation='softmax')\n",
        "    ])\n",
        "\n",
        "    # Compile the model\n",
        "    optimizer = optimizers.Adam(lr=learning_rate)\n",
        "    model.compile(optimizer=optimizer,\n",
        "                  loss='sparse_categorical_crossentropy',\n",
        "                  metrics=['accuracy'])\n",
        "\n",
        "    return model\n",
        "\n",
        "# Define input shape and number of classes\n",
        "input_shape = (224, 224, 3)\n",
        "num_classes = 2  # 2 classes: Normal and Tuberculosis\n",
        "\n",
        "# Define hyperparameters for tuning\n",
        "learning_rates = [0.001, 0.0001]\n",
        "dropout_rates = [0.5, 0.7]\n",
        "epochs = 10\n",
        "batch_size = 32\n",
        "\n",
        "best_model = None\n",
        "best_accuracy = 0.0\n",
        "\n",
        "# Perform hyperparameter tuning\n",
        "for learning_rate in learning_rates:\n",
        "    for dropout_rate in dropout_rates:\n",
        "        print(f\"Training model with learning rate: {learning_rate}, dropout rate: {dropout_rate}\")\n",
        "\n",
        "        # Create the AlexNet model\n",
        "        model = create_AlexNet(input_shape, num_classes, learning_rate, dropout_rate)\n",
        "\n",
        "        # Define callbacks\n",
        "        early_stopping = EarlyStopping(monitor='val_loss', patience=3, restore_best_weights=True)\n",
        "        model_checkpoint = ModelCheckpoint(filepath='alexnet_best_model.h5', monitor='val_loss', save_best_only=True)\n",
        "\n",
        "        # Train the model\n",
        "        history = model.fit(train_dataset, epochs=epochs, batch_size=batch_size,\n",
        "                            validation_data=test_dataset, callbacks=[early_stopping, model_checkpoint])\n",
        "\n",
        "        # Evaluate the model\n",
        "        _, test_accuracy = model.evaluate(test_dataset)\n",
        "\n",
        "        print(f\"Test accuracy for current configuration: {test_accuracy}\")\n",
        "\n",
        "        # Check if current model is the best so far\n",
        "        if test_accuracy > best_accuracy:\n",
        "            best_accuracy = test_accuracy\n",
        "            best_model = model\n",
        "\n",
        "print(\"Hyperparameter tuning completed.\")\n",
        "print(f\"Best test accuracy: {best_accuracy}\")\n",
        "\n",
        "# Save the best model\n",
        "best_model.save('best_alexnet_model.h5')\n"
      ]
    },
    {
      "cell_type": "code",
      "execution_count": null,
      "metadata": {
        "colab": {
          "base_uri": "https://localhost:8080/",
          "height": 819
        },
        "id": "BwFWrTSLssEB",
        "outputId": "c874a218-fe28-465e-dbdf-4441709cbb56"
      },
      "outputs": [
        {
          "name": "stdout",
          "output_type": "stream",
          "text": [
            "27/27 [==============================] - 34s 1s/step\n",
            "Accuracy: 0.9642857142857143\n",
            "Precision: 0.9212598425196851\n",
            "Recall: 0.8540145985401459\n",
            "Sensitivity: 0.8540145985401459\n"
          ]
        },
        {
          "data": {
            "image/png": "[encoded data removed]",
            "text/plain": [
              "<Figure size 800x600 with 2 Axes>"
            ]
          },
          "metadata": {},
          "output_type": "display_data"
        },
        {
          "name": "stdout",
          "output_type": "stream",
          "text": [
            "              precision    recall  f1-score   support\n",
            "\n",
            "      Normal       0.97      0.99      0.98       703\n",
            "Tuberculosis       0.92      0.85      0.89       137\n",
            "\n",
            "    accuracy                           0.96       840\n",
            "   macro avg       0.95      0.92      0.93       840\n",
            "weighted avg       0.96      0.96      0.96       840\n",
            "\n"
          ]
        }
      ],
      "source": [
        "import numpy as np\n",
        "from sklearn.metrics import confusion_matrix, classification_report\n",
        "import matplotlib.pyplot as plt\n",
        "import seaborn as sns\n",
        "from tensorflow.keras.models import load_model\n",
        "\n",
        "# Load the best model\n",
        "best_model = load_model('best_alexnet_model.h5')\n",
        "\n",
        "# Predict on the test dataset\n",
        "y_pred = np.argmax(best_model.predict(test_dataset), axis=-1)\n",
        "\n",
        "# Get true labels\n",
        "y_true = np.concatenate([y for x, y in test_dataset], axis=0)\n",
        "\n",
        "# Calculate the confusion matrix\n",
        "cm = confusion_matrix(y_true, y_pred)\n",
        "\n",
        "# Calculate performance metrics\n",
        "accuracy = np.trace(cm) / np.sum(cm)\n",
        "precision = cm[1, 1] / np.sum(cm[:, 1])\n",
        "recall = cm[1, 1] / np.sum(cm[1, :])\n",
        "sensitivity = recall\n",
        "\n",
        "# Print the performance metrics\n",
        "print(\"Accuracy:\", accuracy)\n",
        "print(\"Precision:\", precision)\n",
        "print(\"Recall:\", recall)\n",
        "print(\"Sensitivity:\", sensitivity)\n",
        "\n",
        "# Generate a heatmap for the confusion matrix\n",
        "plt.figure(figsize=(8, 6))\n",
        "sns.heatmap(cm, annot=True, fmt=\"d\", cmap=\"Blues\", xticklabels=[\"Normal\", \"Tuberculosis\"], yticklabels=[\"Normal\", \"Tuberculosis\"])\n",
        "plt.xlabel('Predicted labels')\n",
        "plt.ylabel('True labels')\n",
        "plt.title('Confusion Matrix')\n",
        "plt.show()\n",
        "\n",
        "# Generate classification report\n",
        "print(classification_report(y_true, y_pred, target_names=[\"Normal\", \"Tuberculosis\"]))\n"
      ]
    },
    {
      "cell_type": "code",
      "execution_count": null,
      "metadata": {
        "colab": {
          "background_save": true,
          "base_uri": "https://localhost:8080/"
        },
        "id": "DVOx15uIKybW",
        "outputId": "f90d6705-2e5a-433e-ad98-673a7cda6952"
      },
      "outputs": [
        {
          "name": "stdout",
          "output_type": "stream",
          "text": [
            "Training model with learning rate: 0.001, dropout rate: 0.5\n"
          ]
        },
        {
          "name": "stderr",
          "output_type": "stream",
          "text": [
            "WARNING:absl:`lr` is deprecated in Keras optimizer, please use `learning_rate` or use the legacy optimizer, e.g.,tf.keras.optimizers.legacy.Adam.\n"
          ]
        },
        {
          "name": "stdout",
          "output_type": "stream",
          "text": [
            "Epoch 1/10\n",
            "105/105 [==============================] - ETA: 0s - loss: 0.7983 - accuracy: 0.9051"
          ]
        },
        {
          "name": "stderr",
          "output_type": "stream",
          "text": [
            "/usr/local/lib/python3.10/dist-packages/keras/src/engine/training.py:3103: UserWarning: You are saving your model as an HDF5 file via `model.save()`. This file format is considered legacy. We recommend using instead the native Keras format, e.g. `model.save('my_model.keras')`.\n",
            "  saving_api.save_model(\n"
          ]
        },
        {
          "name": "stdout",
          "output_type": "stream",
          "text": [
            "105/105 [==============================] - 528s 5s/step - loss: 0.7983 - accuracy: 0.9051 - val_loss: 0.7051 - val_accuracy: 0.8774\n",
            "Epoch 2/10\n",
            "105/105 [==============================] - 499s 5s/step - loss: 0.1659 - accuracy: 0.9592 - val_loss: 4.5466 - val_accuracy: 0.4988\n",
            "Epoch 3/10\n",
            "105/105 [==============================] - 500s 5s/step - loss: 0.1311 - accuracy: 0.9598 - val_loss: 0.2232 - val_accuracy: 0.9036\n",
            "Epoch 4/10\n",
            "105/105 [==============================] - 506s 5s/step - loss: 0.1470 - accuracy: 0.9542 - val_loss: 0.3245 - val_accuracy: 0.8976\n",
            "Epoch 5/10\n",
            "105/105 [==============================] - 512s 5s/step - loss: 0.1641 - accuracy: 0.9643 - val_loss: 16.8783 - val_accuracy: 0.2786\n",
            "Epoch 6/10\n",
            "105/105 [==============================] - 504s 5s/step - loss: 0.1179 - accuracy: 0.9699 - val_loss: 2.1119 - val_accuracy: 0.6536\n",
            "27/27 [==============================] - 84s 3s/step - loss: 0.2232 - accuracy: 0.9036\n",
            "Test accuracy for current configuration: 0.9035714268684387\n",
            "Training model with learning rate: 0.001, dropout rate: 0.7\n"
          ]
        },
        {
          "name": "stderr",
          "output_type": "stream",
          "text": [
            "WARNING:absl:`lr` is deprecated in Keras optimizer, please use `learning_rate` or use the legacy optimizer, e.g.,tf.keras.optimizers.legacy.Adam.\n"
          ]
        },
        {
          "name": "stdout",
          "output_type": "stream",
          "text": [
            "Epoch 1/10\n",
            "105/105 [==============================] - ETA: 0s - loss: 2.2987 - accuracy: 0.9009"
          ]
        }
      ],
      "source": [
        "from tensorflow.keras import layers, models, optimizers\n",
        "from tensorflow.keras.callbacks import EarlyStopping, ModelCheckpoint\n",
        "\n",
        "# Define AlexNet model architecture\n",
        "def create_AlexNet(input_shape, num_classes, learning_rate=0.001, dropout_rate=0.5):\n",
        "    model = models.Sequential([\n",
        "        # First convolutional layer\n",
        "        layers.Conv2D(96, kernel_size=(11, 11), strides=(4, 4), activation='relu', input_shape=input_shape),\n",
        "        layers.MaxPooling2D(pool_size=(3, 3), strides=(2, 2)),\n",
        "        layers.BatchNormalization(),\n",
        "\n",
        "        # Second convolutional layer\n",
        "        layers.Conv2D(256, kernel_size=(5, 5), padding='same', activation='relu'),\n",
        "        layers.MaxPooling2D(pool_size=(3, 3), strides=(2, 2)),\n",
        "        layers.BatchNormalization(),\n",
        "\n",
        "        # Third convolutional layer\n",
        "        layers.Conv2D(384, kernel_size=(3, 3), padding='same', activation='relu'),\n",
        "        layers.Conv2D(384, kernel_size=(3, 3), padding='same', activation='relu'),\n",
        "        layers.Conv2D(256, kernel_size=(3, 3), padding='same', activation='relu'),\n",
        "        layers.MaxPooling2D(pool_size=(3, 3), strides=(2, 2)),\n",
        "        layers.BatchNormalization(),\n",
        "\n",
        "        # Flatten and fully connected layers\n",
        "        layers.Flatten(),\n",
        "        layers.Dense(4096, activation='relu'),\n",
        "        layers.Dropout(dropout_rate),\n",
        "        layers.Dense(4096, activation='relu'),\n",
        "        layers.Dropout(dropout_rate),\n",
        "        layers.Dense(num_classes, activation='softmax')\n",
        "    ])\n",
        "\n",
        "    # Compile the model\n",
        "    optimizer = optimizers.Adam(lr=learning_rate)\n",
        "    model.compile(optimizer=optimizer,\n",
        "                  loss='sparse_categorical_crossentropy',\n",
        "                  metrics=['accuracy'])\n",
        "\n",
        "    return model\n",
        "\n",
        "# Define input shape and number of classes\n",
        "input_shape = (224, 224, 3)\n",
        "num_classes = 2  # 2 classes: Normal and Tuberculosis\n",
        "\n",
        "# Define hyperparameters for tuning\n",
        "learning_rates = [0.001, 0.0001]\n",
        "dropout_rates = [0.5, 0.7]\n",
        "epochs = 10\n",
        "batch_size = 32\n",
        "\n",
        "best_model = None\n",
        "best_accuracy = 0.0\n",
        "\n",
        "# Perform hyperparameter tuning\n",
        "for learning_rate in learning_rates:\n",
        "    for dropout_rate in dropout_rates:\n",
        "        print(f\"Training model with learning rate: {learning_rate}, dropout rate: {dropout_rate}\")\n",
        "\n",
        "        # Create the AlexNet model\n",
        "        model = create_AlexNet(input_shape, num_classes, learning_rate, dropout_rate)\n",
        "\n",
        "        # Define callbacks\n",
        "        early_stopping = EarlyStopping(monitor='val_loss', patience=3, restore_best_weights=True)\n",
        "        model_checkpoint = ModelCheckpoint(filepath='alexnet_best_model.h5', monitor='val_loss', save_best_only=True)\n",
        "\n",
        "        # Train the model\n",
        "        history = model.fit(train_dataset, epochs=epochs, batch_size=batch_size,\n",
        "                            validation_data=test_dataset, callbacks=[early_stopping, model_checkpoint])\n",
        "\n",
        "        # Evaluate the model\n",
        "        _, test_accuracy = model.evaluate(test_dataset)\n",
        "\n",
        "        print(f\"Test accuracy for current configuration: {test_accuracy}\")\n",
        "\n",
        "        # Check if current model is the best so far\n",
        "        if test_accuracy > best_accuracy:\n",
        "            best_accuracy = test_accuracy\n",
        "            best_model = model\n",
        "\n",
        "print(\"Hyperparameter tuning completed.\")\n",
        "print(f\"Best test accuracy: {best_accuracy}\")\n",
        "\n",
        "# Save the best model\n",
        "best_model.save('best_alexnet_model.h5')\n"
      ]
    },
    {
      "cell_type": "code",
      "execution_count": null,
      "metadata": {
        "colab": {
          "base_uri": "https://localhost:8080/",
          "height": 819
        },
        "id": "T4zruuutldCS",
        "outputId": "1f1a368f-1996-42a6-8c18-d7a2e8854e3a"
      },
      "outputs": [
        {
          "name": "stdout",
          "output_type": "stream",
          "text": [
            "27/27 [==============================] - 1s 20ms/step\n",
            "Accuracy: 0.955952380952381\n",
            "Precision: 0.9310344827586207\n",
            "Recall: 0.7883211678832117\n",
            "Sensitivity: 0.7883211678832117\n"
          ]
        },
        {
          "data": {
            "image/png": "[encoded data removed]",
            "text/plain": [
              "<Figure size 800x600 with 2 Axes>"
            ]
          },
          "metadata": {},
          "output_type": "display_data"
        },
        {
          "name": "stdout",
          "output_type": "stream",
          "text": [
            "              precision    recall  f1-score   support\n",
            "\n",
            "      Normal       0.96      0.99      0.97       703\n",
            "Tuberculosis       0.93      0.79      0.85       137\n",
            "\n",
            "    accuracy                           0.96       840\n",
            "   macro avg       0.95      0.89      0.91       840\n",
            "weighted avg       0.96      0.96      0.95       840\n",
            "\n"
          ]
        }
      ],
      "source": [
        "import numpy as np\n",
        "from sklearn.metrics import confusion_matrix, classification_report\n",
        "import matplotlib.pyplot as plt\n",
        "import seaborn as sns\n",
        "from tensorflow.keras.models import load_model\n",
        "\n",
        "# Load the best model\n",
        "best_model = load_model('best_alexnet_model.h5')\n",
        "\n",
        "# Predict on the test dataset\n",
        "y_pred = np.argmax(best_model.predict(test_dataset), axis=-1)\n",
        "\n",
        "# Get true labels\n",
        "y_true = np.concatenate([y for x, y in test_dataset], axis=0)\n",
        "\n",
        "# Calculate the confusion matrix\n",
        "cm = confusion_matrix(y_true, y_pred)\n",
        "\n",
        "# Calculate performance metrics\n",
        "accuracy = np.trace(cm) / np.sum(cm)\n",
        "precision = cm[1, 1] / np.sum(cm[:, 1])\n",
        "recall = cm[1, 1] / np.sum(cm[1, :])\n",
        "sensitivity = recall\n",
        "\n",
        "# Print the performance metrics\n",
        "print(\"Accuracy:\", accuracy)\n",
        "print(\"Precision:\", precision)\n",
        "print(\"Recall:\", recall)\n",
        "print(\"Sensitivity:\", sensitivity)\n",
        "\n",
        "# Generate a heatmap for the confusion matrix\n",
        "plt.figure(figsize=(8, 6))\n",
        "sns.heatmap(cm, annot=True, fmt=\"d\", cmap=\"Blues\", xticklabels=[\"Normal\", \"Tuberculosis\"], yticklabels=[\"Normal\", \"Tuberculosis\"])\n",
        "plt.xlabel('Predicted labels')\n",
        "plt.ylabel('True labels')\n",
        "plt.title('Confusion Matrix')\n",
        "plt.show()\n",
        "\n",
        "# Generate classification report\n",
        "print(classification_report(y_true, y_pred, target_names=[\"Normal\", \"Tuberculosis\"]))\n"
      ]
    }
  ],
  "metadata": {
    "accelerator": "GPU",
    "colab": {
      "gpuType": "T4",
      "provenance": []
    },
    "kernelspec": {
      "display_name": "Python 3",
      "name": "python3"
    },
    "language_info": {
      "name": "python"
    }
  },
  "nbformat": 4,
  "nbformat_minor": 0
}